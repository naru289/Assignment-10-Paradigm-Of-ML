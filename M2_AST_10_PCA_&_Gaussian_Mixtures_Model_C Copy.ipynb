{
  "nbformat": 4,
  "nbformat_minor": 0,
  "metadata": {
    "colab": {
      "private_outputs": true,
      "provenance": [],
      "include_colab_link": true
    },
    "kernelspec": {
      "name": "python3",
      "display_name": "Python 3"
    },
    "language_info": {
      "name": "python"
    }
  },
  "cells": [
    {
      "cell_type": "markdown",
      "metadata": {
        "id": "view-in-github",
        "colab_type": "text"
      },
      "source": [
        "<a href=\"https://colab.research.google.com/github/naru289/Assignment-10-Paradigm-Of-ML/blob/main/M2_AST_10_PCA_%26_Gaussian_Mixtures_Model_C%20Copy.ipynb\" target=\"_parent\"><img src=\"https://colab.research.google.com/assets/colab-badge.svg\" alt=\"Open In Colab\"/></a>"
      ]
    },
    {
      "cell_type": "markdown",
      "metadata": {
        "id": "SnXB0QQcmFEv"
      },
      "source": [
        "# Advanced Programme in Deep Learning (Foundations and Applications)\n",
        "## A Program by IISc and TalentSprint\n",
        "### Assignment 10: Principal Component Analysis (PCA) & Gaussian Mixtures Model"
      ]
    },
    {
      "cell_type": "markdown",
      "metadata": {
        "id": "Q1sCMGb_m117"
      },
      "source": [
        "## Learning Objectives\n"
      ]
    },
    {
      "cell_type": "markdown",
      "metadata": {
        "id": "DDEDgaW1myYD"
      },
      "source": [
        "At the end of the experiment, you will be able to:\n",
        "\n",
        "* compute co-variance matrix\n",
        "* calculate the eigen values and eigen vectors\n",
        "* apply PCA using sklearn package\n",
        "* Perform PCA using selected no of principal components\n",
        "* apply support vector classifier on the PCA reduced data\n",
        "* understand about Gaussian Mixture model\n"
      ]
    },
    {
      "cell_type": "markdown",
      "metadata": {
        "id": "swTZeUO5Bfi3"
      },
      "source": [
        "## Dataset"
      ]
    },
    {
      "cell_type": "markdown",
      "metadata": {
        "id": "fQKsWtE5BcIu"
      },
      "source": [
        "### History\n",
        "\n",
        "Breast cancer (BC) is one of the most common cancers among women in the world today. Currently, the average risk of a woman in the United States developing breast cancer sometime in her life is about 13%, which means there is a 1 in 8 chance she will develop breast cancer!. An early diagnosis of BC can greatly improve the prognosis and chance of survival for patients. Thus an accurate identification of malignant tumors is of paramount importance.\n",
        "\n",
        "### Description\n",
        "\n",
        "The Breast cancer Data Set consists of 569 data instances. This is a binary classification problem which consists of 2 types of cancer classes. The tumor is classified as **benign (1)** or **malignant (0)** based on its geometry and shape. \n",
        "\n",
        "The features of the dataset include:\n",
        "\n",
        "* ID number\n",
        "* Diagnosis (M = malignant, B = benign) \n",
        "\n",
        "Ten real-valued features are computed for each cell nucleus:\n",
        "\n",
        "* radius (mean of distances from center to points on the perimeter) \n",
        "* texture (standard deviation of gray-scale values) \n",
        "* perimeter \n",
        "* area \n",
        "* smoothness (local variation in radius lengths) \n",
        "* compactness (perimeter^2 / area - 1.0) \n",
        "* concavity (severity of concave portions of the contour) \n",
        "* concave points (number of concave portions of the contour) \n",
        "* symmetry \n",
        "* fractal dimension (\"coastline approximation\" - 1)\n",
        "\n",
        "\n",
        "The mean, standard error and “worst” or largest (mean of the three largest values) of these features were computed for each image, resulting in 32 features. For instance, field 3 is Mean Radius, field 13 is Radius SE, field 23 is Worst Radius.\n",
        "\n",
        "Class distribution: 357 benign, 212 malignant\n",
        "\n",
        "Data source to this experiment : https://archive.ics.uci.edu/ml/datasets/breast+cancer+wisconsin+(diagnostic)\n",
        "\n",
        "This analysis aims to observe which features are most helpful in predicting malignant or benign cancer. The goal is to classify whether the breast cancer is benign or malignant.\n"
      ]
    },
    {
      "cell_type": "markdown",
      "metadata": {
        "id": "ljuhF_JxCq8E"
      },
      "source": [
        "## Domain Information\n",
        "\n",
        "Many machine learning problems involve a vast number of features for each training instance, making the training extremely slow and harder to find a good solution. This problem is called the **curse of dimensionality**. Therefore, we need dimensionality reduction techniques, that transform data from a high-dimensional space into a low-dimensional space so that the low-dimensional representation retains most meaningful properties of the original data. Dimensionality reduction speeds up training and is also extremely useful for data visualization. One of the main approaches to reducing dimensionality is data projection. "
      ]
    },
    {
      "cell_type": "markdown",
      "metadata": {
        "id": "IaeFgzsNDZgA"
      },
      "source": [
        "#### Projection\n",
        "\n",
        "In most real-world problems, training instances are not spread out uniformly across all dimensions. Many features are almost constant, while others are highly correlated. As a result, all training instances lie within a much lower-dimensional subspace of the high-dimensional space.\n",
        "\n",
        "In the figure below a 3D dataset is represented by circles.\n",
        "\n",
        "<br><br>\n",
        "<center>\n",
        "<img src=\"https://cdn.iisc.talentsprint.com/CDS/Images/pca1.png\" width=450px/>\n",
        "</center>\n",
        "\n",
        "$\\hspace{8.6cm} \\text{A 3D dataset lying close to a 2D subspace}$\n",
        "<br><br>\n",
        "\n",
        "Notice that all training instances lie close to a plane which is a lower-dimensional (2D) subspace of the high-dimensional (3D) space. \n",
        "\n",
        "After projecting every training instance perpendicularly onto this subspace, we get the new 2D dataset as shown in the figure below. By that, we reduced the dataset’s dimensionality from 3D to 2D.\n",
        "\n",
        "<br><br>\n",
        "<center>\n",
        "<img src=\"data:image/png;base64,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\" width=350px/>\n",
        "</center>\n",
        "\n",
        "$\\hspace{10cm} \\text{The new 2D dataset after projection}$\n",
        "<br><br>"
      ]
    },
    {
      "cell_type": "markdown",
      "metadata": {
        "id": "t_xwYDHlEAQL"
      },
      "source": [
        "The most common dimensionality reduction method, that applies projection is:\n",
        "\n",
        "* PCA (Principal Component Analysis)"
      ]
    },
    {
      "cell_type": "markdown",
      "metadata": {
        "id": "7OiFi8nj77AW"
      },
      "source": [
        "### Setup Steps:"
      ]
    },
    {
      "cell_type": "code",
      "metadata": {
        "id": "xWMVQWk58aXm"
      },
      "source": [
        "#@title Please enter your registration id to start: { run: \"auto\", display-mode: \"form\" }\n",
        "Id = \"2237180\" #@param {type:\"string\"}"
      ],
      "execution_count": null,
      "outputs": []
    },
    {
      "cell_type": "code",
      "metadata": {
        "id": "cwqosl928dBA"
      },
      "source": [
        "#@title Please enter your password (normally your phone number) to continue: { run: \"auto\", display-mode: \"form\" }\n",
        "password = \"6366871391\" #@param {type:\"string\"}"
      ],
      "execution_count": null,
      "outputs": []
    },
    {
      "cell_type": "code",
      "metadata": {
        "cellView": "form",
        "id": "GXbNUL2L6LoU"
      },
      "source": [
        "#@title Run this cell to complete the setup for this Notebook\n",
        "from IPython import get_ipython\n",
        "import warnings\n",
        "warnings.filterwarnings(\"ignore\")\n",
        "\n",
        "ipython = get_ipython()\n",
        "  \n",
        "notebook= \"M2_AST_10_PCA_&_Gaussian_Mixtures_Model_C\" #name of the notebook\n",
        "\n",
        "def setup():\n",
        "    ipython.magic(\"sx wget https://cdn.iisc.talentsprint.com/DLFA/Experiment_related_data/breast_cancer.csv\") \n",
        "    ipython.magic(\"sx wget https://cdn.iisc.talentsprint.com/DLFA/Experiment_related_data/Iris.csv\") \n",
        "    from IPython.display import HTML, display\n",
        "    display(HTML('<script src=\"https://dashboard.talentsprint.com/aiml/record_ip.html?traineeId={0}&recordId={1}\"></script>'.format(getId(),submission_id)))\n",
        "    print(\"Setup completed successfully\")\n",
        "    return\n",
        "\n",
        "def submit_notebook():\n",
        "    ipython.magic(\"notebook -e \"+ notebook + \".ipynb\")\n",
        "    \n",
        "    import requests, json, base64, datetime\n",
        "\n",
        "    url = \"https://dashboard.talentsprint.com/xp/app/save_notebook_attempts\"\n",
        "    if not submission_id:\n",
        "      data = {\"id\" : getId(), \"notebook\" : notebook, \"mobile\" : getPassword()}\n",
        "      r = requests.post(url, data = data)\n",
        "      r = json.loads(r.text)\n",
        "\n",
        "      if r[\"status\"] == \"Success\":\n",
        "          return r[\"record_id\"]\n",
        "      elif \"err\" in r:        \n",
        "        print(r[\"err\"])\n",
        "        return None        \n",
        "      else:\n",
        "        print (\"Something is wrong, the notebook will not be submitted for grading\")\n",
        "        return None\n",
        "    \n",
        "    elif getAnswer1() and getAnswer2() and getComplexity() and getAdditional() and getConcepts() and getComments() and getMentorSupport():\n",
        "      f = open(notebook + \".ipynb\", \"rb\")\n",
        "      file_hash = base64.b64encode(f.read())\n",
        "\n",
        "      data = {\"complexity\" : Complexity, \"additional\" :Additional, \n",
        "              \"concepts\" : Concepts, \"record_id\" : submission_id, \n",
        "              \"answer1\" : Answer1, \"answer2\" : Answer2, \"id\" : Id, \"file_hash\" : file_hash,\n",
        "              \"notebook\" : notebook,\n",
        "              \"feedback_experiments_input\" : Comments,\n",
        "              \"feedback_mentor_support\": Mentor_support}\n",
        "      r = requests.post(url, data = data)\n",
        "      r = json.loads(r.text)\n",
        "      if \"err\" in r:        \n",
        "        print(r[\"err\"])\n",
        "        return None   \n",
        "      else:\n",
        "        print(\"Your submission is successful.\")\n",
        "        print(\"Ref Id:\", submission_id)\n",
        "        print(\"Date of submission: \", r[\"date\"])\n",
        "        print(\"Time of submission: \", r[\"time\"])\n",
        "        print(\"View your submissions: https://dlfa-iisc.talentsprint.com/notebook_submissions\")\n",
        "        #print(\"For any queries/discrepancies, please connect with mentors through the chat icon in LMS dashboard.\")\n",
        "        return submission_id\n",
        "    else: submission_id\n",
        "    \n",
        "\n",
        "def getAdditional():\n",
        "  try:\n",
        "    if not Additional: \n",
        "      raise NameError\n",
        "    else:\n",
        "      return Additional  \n",
        "  except NameError:\n",
        "    print (\"Please answer Additional Question\")\n",
        "    return None\n",
        "\n",
        "def getComplexity():\n",
        "  try:\n",
        "    if not Complexity:\n",
        "      raise NameError\n",
        "    else:\n",
        "      return Complexity\n",
        "  except NameError:\n",
        "    print (\"Please answer Complexity Question\")\n",
        "    return None\n",
        "  \n",
        "def getConcepts():\n",
        "  try:\n",
        "    if not Concepts:\n",
        "      raise NameError\n",
        "    else:\n",
        "      return Concepts\n",
        "  except NameError:\n",
        "    print (\"Please answer Concepts Question\")\n",
        "    return None\n",
        "  \n",
        "  \n",
        "# def getWalkthrough():\n",
        "#   try:\n",
        "#     if not Walkthrough:\n",
        "#       raise NameError\n",
        "#     else:\n",
        "#       return Walkthrough\n",
        "#   except NameError:\n",
        "#     print (\"Please answer Walkthrough Question\")\n",
        "#     return None\n",
        "  \n",
        "def getComments():\n",
        "  try:\n",
        "    if not Comments:\n",
        "      raise NameError\n",
        "    else:\n",
        "      return Comments\n",
        "  except NameError:\n",
        "    print (\"Please answer Comments Question\")\n",
        "    return None\n",
        "  \n",
        "\n",
        "def getMentorSupport():\n",
        "  try:\n",
        "    if not Mentor_support:\n",
        "      raise NameError\n",
        "    else:\n",
        "      return Mentor_support\n",
        "  except NameError:\n",
        "    print (\"Please answer Mentor support Question\")\n",
        "    return None\n",
        "\n",
        "def getAnswer1():\n",
        "  try:\n",
        "    if not Answer1:\n",
        "      raise NameError \n",
        "    else: \n",
        "      return Answer1\n",
        "  except NameError:\n",
        "    print (\"Please answer Question 1\")\n",
        "    return None\n",
        "\n",
        "def getAnswer2():\n",
        "  try:\n",
        "    if not Answer2:\n",
        "      raise NameError \n",
        "    else: \n",
        "      return Answer2\n",
        "  except NameError:\n",
        "    print (\"Please answer Question 2\")\n",
        "    return None\n",
        "  \n",
        "\n",
        "def getId():\n",
        "  try: \n",
        "    return Id if Id else None\n",
        "  except NameError:\n",
        "    return None\n",
        "\n",
        "def getPassword():\n",
        "  try:\n",
        "    return password if password else None\n",
        "  except NameError:\n",
        "    return None\n",
        "\n",
        "submission_id = None\n",
        "### Setup \n",
        "if getPassword() and getId():\n",
        "  submission_id = submit_notebook()\n",
        "  if submission_id:\n",
        "    setup() \n",
        "else:\n",
        "  print (\"Please complete Id and Password cells before running setup\")\n",
        "\n"
      ],
      "execution_count": null,
      "outputs": []
    },
    {
      "cell_type": "markdown",
      "metadata": {
        "id": "OVrZPM_ICJoy"
      },
      "source": [
        "### Importing required packages"
      ]
    },
    {
      "cell_type": "code",
      "metadata": {
        "id": "BodsbCWT1VlC"
      },
      "source": [
        "import pandas as pd\n",
        "import numpy as np\n",
        "import seaborn as sns\n",
        "import scipy\n",
        "import matplotlib.pyplot as plt\n",
        "\n",
        "from sklearn.svm import SVC \n",
        "from sklearn.metrics import classification_report, confusion_matrix, accuracy_score\n",
        "from sklearn.preprocessing import StandardScaler"
      ],
      "execution_count": null,
      "outputs": []
    },
    {
      "cell_type": "markdown",
      "metadata": {
        "id": "Y-zYvHDCCM-X"
      },
      "source": [
        "### Loading the dataset"
      ]
    },
    {
      "cell_type": "code",
      "metadata": {
        "id": "-JRBbiUJ0mnV"
      },
      "source": [
        "breast_cancer = pd.read_csv('breast_cancer.csv')\n",
        "breast_cancer.head()"
      ],
      "execution_count": null,
      "outputs": []
    },
    {
      "cell_type": "code",
      "metadata": {
        "id": "cHM4ENjP4nR7"
      },
      "source": [
        "# The dataset has 569 instances and 32 features\n",
        "print(breast_cancer.shape)"
      ],
      "execution_count": null,
      "outputs": []
    },
    {
      "cell_type": "markdown",
      "metadata": {
        "id": "k9e6tMpx7LHE"
      },
      "source": [
        "Get a count of the number of Malignant (M) or Benign (B) cells and visualize the count.\n"
      ]
    },
    {
      "cell_type": "code",
      "metadata": {
        "id": "WVBSIyK67eoC"
      },
      "source": [
        "breast_cancer['diagnosis'].value_counts()"
      ],
      "execution_count": null,
      "outputs": []
    },
    {
      "cell_type": "code",
      "metadata": {
        "id": "mvIQU_Hn7JN9"
      },
      "source": [
        "sns.countplot(x=breast_cancer[\"diagnosis\"], label = 'count');"
      ],
      "execution_count": null,
      "outputs": []
    },
    {
      "cell_type": "markdown",
      "metadata": {
        "id": "a7NsWQtL6KLO"
      },
      "source": [
        "### Storing features and labels from the data"
      ]
    },
    {
      "cell_type": "code",
      "metadata": {
        "id": "OvjOow_w1-8S"
      },
      "source": [
        "# Extracting features from cancer data\n",
        "features = breast_cancer.drop(columns=['diagnosis','id'], axis=1)\n",
        "features.shape"
      ],
      "execution_count": null,
      "outputs": []
    },
    {
      "cell_type": "code",
      "metadata": {
        "id": "IZj1vtvm6khe"
      },
      "source": [
        "# Extracting labels from cancer data\n",
        "labels = breast_cancer['diagnosis']"
      ],
      "execution_count": null,
      "outputs": []
    },
    {
      "cell_type": "markdown",
      "metadata": {
        "id": "MO3-jBm2719T"
      },
      "source": [
        "Encode the categorical data values"
      ]
    },
    {
      "cell_type": "code",
      "metadata": {
        "id": "iDmxpcAR70fr"
      },
      "source": [
        "from sklearn.preprocessing import LabelEncoder\n",
        "\n",
        "label_encoder = LabelEncoder()\n",
        "encoded_labels = label_encoder.fit_transform(labels)"
      ],
      "execution_count": null,
      "outputs": []
    },
    {
      "cell_type": "code",
      "metadata": {
        "id": "91N7O6ES8Pm3"
      },
      "source": [
        "encoded_labels[:20]"
      ],
      "execution_count": null,
      "outputs": []
    },
    {
      "cell_type": "markdown",
      "metadata": {
        "id": "EPbR62ndl20p"
      },
      "source": [
        "Let's check the correlation between the features"
      ]
    },
    {
      "cell_type": "code",
      "metadata": {
        "id": "HdKFbEOSmI4e"
      },
      "source": [
        "plt.figure(figsize=(15, 12))\n",
        "sns.heatmap(features.corr(), annot=True);"
      ],
      "execution_count": null,
      "outputs": []
    },
    {
      "cell_type": "markdown",
      "metadata": {
        "id": "kRQOfR1SG-uK"
      },
      "source": [
        "## Principal Component Analysis (PCA)\n",
        "\n",
        " \n",
        "It is defined as the orthogonal transformation of the data into a series of uncorrelated principal components such that the first component explains the most variance in the data with each subsequent component explaining less.\n",
        "\n",
        "This technique is particularly useful in processing data where multi-colinearity exists between features or when the dimensions of features are high. Using PCA we project the data on a subset of input space.\n",
        "\n",
        "PCA is a dimensionality-reduction method that is often used to reduce the dimensionality of large data sets, by transforming a large set of data on a subset of input space that still contains most of the information in the large set and we project data on the subspace with maximum variance."
      ]
    },
    {
      "cell_type": "markdown",
      "metadata": {
        "id": "dp0z1u4Bpa_j"
      },
      "source": [
        "###  Mathematical calculation of eigen values and eigen vectors\n",
        "\n",
        "Step 1:   Standardization\n",
        "\n",
        "Step 2:   Compute the Covariance matrix\n",
        "\n",
        "Step 3:  Compute the Eigenvalues and Eigenvectors of the Covariance matrix to identify the principal components"
      ]
    },
    {
      "cell_type": "markdown",
      "metadata": {
        "id": "KKB-3dpn6-sm"
      },
      "source": [
        "#### 1. Standardization (Scaling the data)\n",
        "\n",
        "Standardize the range of the continuous initial variables so that each one of them contributes equally to the analysis. For instance all features are centered around 0 and have variance in the same order. If a feature has a variance that is orders of magnitude larger than others, it might dominate the objective function.\n",
        "\n",
        "So, for each observed value of the variable, subtract the mean and divide by the standard deviation.\n"
      ]
    },
    {
      "cell_type": "code",
      "metadata": {
        "id": "6zd7IuQEZuQh"
      },
      "source": [
        "# Define a function for standardization of the data\n",
        "def standardization(features):\n",
        "\n",
        "    # Loop through each feature in the dataset\n",
        "    for feature_name in features:\n",
        "\n",
        "        # For each feature subtract the mean \n",
        "        features[feature_name] -= features[feature_name].mean()\n",
        "\n",
        "        # Divide by the standard deviation\n",
        "        features[feature_name] /= features[feature_name].std()\n",
        "        \n",
        "    return features"
      ],
      "execution_count": null,
      "outputs": []
    },
    {
      "cell_type": "code",
      "metadata": {
        "id": "ZMye4vBdYnrE"
      },
      "source": [
        "# Call the 'standardization' function by passing the dataset features\n",
        "scaled_data = standardization(features)"
      ],
      "execution_count": null,
      "outputs": []
    },
    {
      "cell_type": "code",
      "metadata": {
        "id": "01Mjj6XtI8gz"
      },
      "source": [
        "# Print the first five rows of the scaled data\n",
        "scaled_data.head()"
      ],
      "execution_count": null,
      "outputs": []
    },
    {
      "cell_type": "markdown",
      "metadata": {
        "id": "7NalQljb5e6s"
      },
      "source": [
        "#### 2. Compute the covariance matrix\n",
        "\n",
        "For a given dataset $X = {x_1, . . . , x_N }, X ∈ R^D $. Compute the matrix $\\boldsymbol X\\boldsymbol X^T$ (a $D$ by $D$ matrix with $D \\ll N$), where D is the dimension of the sample in the dataset, and N is the number of samples in the dataset.\n",
        "\n",
        "Covariance is to measure how the variables of the input dataset are varying from the mean with respect to each other. It gives the variance between each feature in our original dataset. \n",
        "\n",
        "The covariance matrix is a d × d symmetric matrix (d is the number of dimensions) where each element represents the covariance between two features.\n",
        "\n",
        "Assume $X$ is the standardized data, then Co-variance Matrix of $X$ would be, $Σ =\\tfrac{X^T.X}{n - 1} $ \n",
        "\n",
        "where $X^T$ = Transpose of matrix $X$ and n is number of samples. \n",
        "\n",
        "http://www.stat.ucdavis.edu/~xdgli/Xiaodong_Li_Teaching_files/135Note2.pdf"
      ]
    },
    {
      "cell_type": "code",
      "metadata": {
        "id": "OKNVV0RsbKOK"
      },
      "source": [
        "# Number of samples\n",
        "n = scaled_data.shape[0]\n",
        "\n",
        "# Compute the co-variance matrix\n",
        "cov_mat = np.dot((scaled_data).T, scaled_data) / (n - 1)"
      ],
      "execution_count": null,
      "outputs": []
    },
    {
      "cell_type": "markdown",
      "metadata": {
        "id": "3VJ-IA8j7tKJ"
      },
      "source": [
        "#### 3. Compute the Eigenvalues and Eigenvectors \n",
        "\n",
        "After the covariance matrix is generated, eigen decomposition is performed on the covariance matrix. Eigenvectors and Eigenvalues are found as a result of the eigen decomposition. \n",
        "\n",
        "Eigenvectors of a covariance matrix are actually the directions of the axes where there is a most variance (most information).\n",
        "\n",
        "Eigenvalues (importance of these different directions) are coefficients attached to each Eigenvector. Each Eigenvector has a corresponding Eigenvalue, and the sum of the Eigenvalues represents all of the variance within the entire dataset.\n",
        "\n",
        "Compute eigenvalues $\\lambda$s and eigenvectors $V$ for $\\boldsymbol X\\boldsymbol X^T$ matrix. Compute the eigenvectors for the original covariance matrix as $\\boldsymbol X^T\\boldsymbol V$. Choose the eigenvectors associated with the 'M (cov_mat)' largest eigenvalues to be the basis of the principal subspace.\n"
      ]
    },
    {
      "cell_type": "code",
      "metadata": {
        "id": "9r5gyUOKB1-2"
      },
      "source": [
        "# Next find eigenvalues and corresponding eigenvectors for cov_mat\n",
        "eig_vals, eig_vecs = np.linalg.eig(cov_mat)\n",
        "print('Eigenvectors \\n%s' %eig_vecs)\n",
        "print('\\nEigenvalues \\n%s' %eig_vals)"
      ],
      "execution_count": null,
      "outputs": []
    },
    {
      "cell_type": "markdown",
      "metadata": {
        "id": "7hAqDlaDEkYg"
      },
      "source": [
        "Eigenvectors are the principal components. The first principal component is the first column and the second principal component is the second column and so on. Each Eigenvector will correspond to an Eigenvalue, each eigenvector can be scaled of its eigenvalue, whose magnitude indicates how much of the data’s variability is explained by its eigenvector."
      ]
    },
    {
      "cell_type": "markdown",
      "metadata": {
        "id": "TC0kYA6baV4W"
      },
      "source": [
        "Arrange the eigen values in the descending order and compute the variance explained for each dimension. It provides the percentage of variance explained at each of the dimensions."
      ]
    },
    {
      "cell_type": "code",
      "metadata": {
        "id": "CJMjHl68VBIA"
      },
      "source": [
        "# Total sum of the eigen values\n",
        "tot = sum(eig_vals)\n",
        "# Percentage of variance for each principal component\n",
        "var_exp = [(i / tot)*100 for i in sorted(eig_vals, reverse=True)]\n",
        "print(var_exp)"
      ],
      "execution_count": null,
      "outputs": []
    },
    {
      "cell_type": "markdown",
      "metadata": {
        "id": "86cYpnh5a_oT"
      },
      "source": [
        "Cumulative sum provides the percentage of variance accounted for by the first n components.\n",
        "\n",
        "For example, the cumulative percentage for the second component is the sum of the percentage of variance for the first and second component and so on."
      ]
    },
    {
      "cell_type": "code",
      "metadata": {
        "id": "mgMwjZ2bVDxz"
      },
      "source": [
        "# Find the cumulative sum for the variance explained by each dimension\n",
        "cumsum = np.cumsum(var_exp)\n",
        "print(cumsum)"
      ],
      "execution_count": null,
      "outputs": []
    },
    {
      "cell_type": "markdown",
      "metadata": {
        "id": "Jfkl1YX0bKIG"
      },
      "source": [
        "plot the cumulative sum variance as a function of the number of components/dimensions and check for an elbow in the curve to select the principal components. Cumulative sum is used to display the total sum of data as it grows with each component."
      ]
    },
    {
      "cell_type": "code",
      "metadata": {
        "id": "7I8nOa4PZwoS"
      },
      "source": [
        "plt.plot(cumsum)\n",
        "plt.xlabel('number of components')\n",
        "plt.ylabel('Captured variance') \n",
        "plt.show()"
      ],
      "execution_count": null,
      "outputs": []
    },
    {
      "cell_type": "markdown",
      "metadata": {
        "id": "oHguQAKxNEJ1"
      },
      "source": [
        "Since eigen values capture the variance by each component in the direction of the eigen vector. We can see the percentage of variance contributed by each feature which in turn contributes to the predicting power."
      ]
    },
    {
      "cell_type": "markdown",
      "metadata": {
        "id": "jOEUp10u77jG"
      },
      "source": [
        "plot to find the maximum variance between each principal component\n",
        "\n"
      ]
    },
    {
      "cell_type": "code",
      "metadata": {
        "id": "d0CS8n_D78Bt"
      },
      "source": [
        "fig = plt.figure(figsize=(15, 8))\n",
        "# Plot the explained variance around each dimesnion\n",
        "plt.bar(range(1, len(var_exp)+1), var_exp)\n",
        "plt.xticks(np.arange(0, 35, 5))\n",
        "plt.xlabel('Number of components')\n",
        "plt.ylabel('Percentage of variance')\n",
        "plt.show()"
      ],
      "execution_count": null,
      "outputs": []
    },
    {
      "cell_type": "markdown",
      "metadata": {
        "id": "YHi3k7agqSeO"
      },
      "source": [
        "The first seven components together covering most of the information about (91%). So, the remaining components can be dropped without losing much information."
      ]
    },
    {
      "cell_type": "markdown",
      "metadata": {
        "id": "9nL14qyyQqEl"
      },
      "source": [
        "We can then compute the projection and reconstruction of the data onto the space spanned by the top $n$ eigenvectors (no. of principal components).\n",
        "\n",
        "We compute the projection matrix onto the space spanned by `B` where, B: ndarray of dimension (D, M), the basis for the subspace where D is the dimension of the data, and N is the number of datapoints which returns the projection matrix.\n",
        "\n",
        "we assume there exists a low-dimensional compressed representation $z_n = B^T X ∈ R^M$ of $X$, where we define the projection matrix $B = [b_1,...b_M] ∈ R^{D×M}$. We assume that the columns of B are orthonormal so that $b_i^T b_j = 0$ if and only if $i \\neq j$ and $b_i^T b_j = 1$. We seek an M-dimensional subspace $U ⊆ R^D$, $dim(U) = M < D$ onto which we project the data. \n"
      ]
    },
    {
      "cell_type": "code",
      "metadata": {
        "id": "ta59ipNtMcjp"
      },
      "source": [
        "# Select the top 7 eigen vectors (principal components)\n",
        "B = eig_vecs[:, :7]\n",
        "\n",
        "# Dimensionality reduction of the original data to 7 principal compoenents\n",
        "X = scaled_data.dot(B)\n",
        "\n",
        "print(X.shape)"
      ],
      "execution_count": null,
      "outputs": []
    },
    {
      "cell_type": "code",
      "metadata": {
        "id": "yjCNfAc0NzOP"
      },
      "source": [
        "# Reconstruct the data from the lower dimensional representation\n",
        "X_reconstruct = X.dot(B.T)\n",
        "print(X_reconstruct.shape)"
      ],
      "execution_count": null,
      "outputs": []
    },
    {
      "cell_type": "markdown",
      "metadata": {
        "id": "XylLLs8jdD7w"
      },
      "source": [
        "### Applying PCA using sklearn package"
      ]
    },
    {
      "cell_type": "markdown",
      "metadata": {
        "id": "Hu7mmMwM8gQG"
      },
      "source": [
        "Scikit-Learn’s `PCA` class uses singular value decomposition (SVD) decomposition to implement PCA.\n",
        "\n",
        "To know more about Scikit-Learn’s `PCA` class, click [here](https://scikit-learn.org/stable/modules/generated/sklearn.decomposition.PCA.html).\n",
        "\n",
        "\n"
      ]
    },
    {
      "cell_type": "markdown",
      "metadata": {
        "id": "XY07w5zenAMF"
      },
      "source": [
        "#### Apply PCA on the scaled data\n"
      ]
    },
    {
      "cell_type": "code",
      "metadata": {
        "id": "DyyTGzc78Zwr"
      },
      "source": [
        "from sklearn.decomposition import PCA\n",
        "pca = PCA()\n",
        "pca.fit_transform(scaled_data);"
      ],
      "execution_count": null,
      "outputs": []
    },
    {
      "cell_type": "markdown",
      "metadata": {
        "id": "GtGkvX81viLD"
      },
      "source": [
        "#### Principal Components using the Explained Variance Ratio"
      ]
    },
    {
      "cell_type": "markdown",
      "metadata": {
        "id": "H3D98KhZAD7z"
      },
      "source": [
        "pca.explained_variance_ratio_ parameter returns a vector of the variance explained for each dimension.\n",
        "\n",
        "PCA function provides explained_variance_ratio_ which gives the percentage of explained variance at each of the selected components."
      ]
    },
    {
      "cell_type": "code",
      "metadata": {
        "id": "bpwmxdGa84HB"
      },
      "source": [
        "variance = pca.explained_variance_ratio_ * 100\n",
        "print(sorted(variance, reverse=True))"
      ],
      "execution_count": null,
      "outputs": []
    },
    {
      "cell_type": "markdown",
      "metadata": {
        "id": "PdihG9kwITZH"
      },
      "source": [
        "44.27% of variance on the data is explained by the first principal component, the second principal component explains 18.97% of data"
      ]
    },
    {
      "cell_type": "markdown",
      "metadata": {
        "id": "aT40ioCnAnri"
      },
      "source": [
        "Cumulative variance in PCA gives the percentage of variance accounted for by the first n components.\n",
        "\n",
        "For example, the cumulative percentage for the second component is the sum of the percentage of variance for the first and second component and so on."
      ]
    },
    {
      "cell_type": "code",
      "metadata": {
        "id": "7KQRoZ4VAHzL"
      },
      "source": [
        "cumsum_explained_variance = np.cumsum(variance)\n",
        "print(cumsum_explained_variance)"
      ],
      "execution_count": null,
      "outputs": []
    },
    {
      "cell_type": "markdown",
      "metadata": {
        "id": "hDVhxrq0OI4-"
      },
      "source": [
        "If we use the first feature, it will explain 44.27% of the data; If we consider two features we can capture 63.2% of the data. If we use all features we can describe the entire dataset."
      ]
    },
    {
      "cell_type": "markdown",
      "metadata": {
        "id": "pzNDgQFToG7D"
      },
      "source": [
        "#### Determining how many number of components\n",
        "\n",
        "Instead of arbitrarily choosing the number of dimensions to reduce down to, we can either\n",
        "\n",
        "* select 2 or 3 dimensions for data visualization\n",
        "\n",
        "* choose the number of dimensions that add up to a sufficiently large portion of the variance (e.g., `PCA(n_components=0.92)` for 92% variance)\n",
        "\n",
        "* Visualize the eigenvalues in order from highest to lowest, connecting them with a line. Upon visual inspection, keep all the components whose eigenvalue falls above the point where the slope of the line changes the most drastically, also called the “elbow”\n",
        "\n",
        "* plot the cumulative explained variance as a function of the number of components/dimensions and check for an elbow in the curve"
      ]
    },
    {
      "cell_type": "code",
      "metadata": {
        "id": "CBQ9SxxAIoy6"
      },
      "source": [
        "# Visualize Explained variance as a function of the number of dimensions\n",
        "plt.plot(cumsum_explained_variance)\n",
        "plt.xlabel('number of components')\n",
        "plt.ylabel('Captured variance') \n",
        "plt.show()"
      ],
      "execution_count": null,
      "outputs": []
    },
    {
      "cell_type": "markdown",
      "metadata": {
        "id": "J_PzLRTnqY9A"
      },
      "source": [
        "#### Plotting the variance percentage at each principal component\n",
        "\n",
        "Cumulative sum is used to display the total sum of data as it grows with each component (or any other series or progression). It is view of the total contribution so far of a given measure against principal components.\n"
      ]
    },
    {
      "cell_type": "code",
      "metadata": {
        "id": "AaC9QE0rrAWZ"
      },
      "source": [
        "# Finding the variance between the each principal component\n",
        "fig = plt.figure(figsize=(15, 8))\n",
        "tot = sum(variance)\n",
        "var_exp = [(i / tot)*100 for i in sorted(variance, reverse=True)]\n",
        "plt.bar(range(1,len(var_exp)+1), var_exp)\n",
        "plt.xlabel('Number of components')\n",
        "plt.ylabel('Percentage of variance')\n",
        "plt.show()"
      ],
      "execution_count": null,
      "outputs": []
    },
    {
      "cell_type": "code",
      "metadata": {
        "id": "KFV32o44r444"
      },
      "source": [
        "# Print the 'var_exp' and select the no of principal components where the highest variance is preserved\n",
        "print(var_exp)"
      ],
      "execution_count": null,
      "outputs": []
    },
    {
      "cell_type": "markdown",
      "metadata": {
        "id": "kJOw9zbpoyVM"
      },
      "source": [
        "From the above plot, the first 7 principal components together contain 91% of the information. So, reducing the dimensionality to about 7 number of principal components  wouldn’t lose too much explained variance. So, remaining components can safely be dropped without losing much information."
      ]
    },
    {
      "cell_type": "markdown",
      "metadata": {
        "id": "GoN_FiG2p_Wf"
      },
      "source": [
        "#### PCA for Compression\n",
        "\n",
        "After dimensionality reduction, the training set takes up much less space. This size reduction can speed up a classification algorithm tremendously.\n",
        "\n",
        "we will find low-dimensional representations that retain as much information as possible and minimize the compression loss where, we will be looking at minimizing the squared reconstruction error $||X - \\bar{X}||^ 2$ between the original data and its projection.\n",
        "\n",
        "We can also decompress the reduced dataset back to original dimensions by applying the inverse transformation of the PCA projection.\n",
        "\n",
        "In the following code:\n",
        "\n",
        "1. First we iterate through the different number of principal components\n",
        "2. Perform PCA on a range of selected number of components by using `PCA(n_components)`. Here, `n_components` represents how many optimum features need to be used to represent the data without having data loss.\n",
        "3. By applying `pca.fit_transform` method compress the dimensionality of the original dataset\n",
        "4. Then by using `pca.inverse_transform` method decompresses it back to original 30 dimensions\n",
        "5. Compute the reconstruction error (MSE), between the original dataset and the decompressed data\n",
        "\n",
        "\n"
      ]
    },
    {
      "cell_type": "code",
      "metadata": {
        "id": "7R_E1VZOLZ7o"
      },
      "source": [
        "def mse(predict, actual):\n",
        "    \"\"\"Helper function for computing the mean squared error (MSE)\"\"\"\n",
        "    return np.square(predict - actual).sum(axis=1).mean()    "
      ],
      "execution_count": null,
      "outputs": []
    },
    {
      "cell_type": "code",
      "metadata": {
        "id": "ScAH5R6pNCfT"
      },
      "source": [
        "loss = []\n",
        "\n",
        "# Iterate over different numbers of principal components, and compute the MSE\n",
        "for num_component in range(1, 31):\n",
        "  \n",
        "    # Create an instance for PCA \n",
        "    pca = PCA(n_components=num_component)\n",
        "\n",
        "    # Perform PCA on the scaled data\n",
        "    reduced_data = pca.fit_transform(scaled_data)\n",
        "\n",
        "    # Reconstruct the original data\n",
        "    reconst_data = pca.inverse_transform(reduced_data)\n",
        "\n",
        "    # Compute the reconstruction error between the original and the projected data\n",
        "    error = mse(reconst_data, scaled_data)\n",
        "    print('n = {:d}, reconstruction_error = {:f}'.format(num_component, error))\n",
        "    loss.append((num_component, error))\n",
        "    \n",
        "loss = np.asarray(loss)"
      ],
      "execution_count": null,
      "outputs": []
    },
    {
      "cell_type": "markdown",
      "metadata": {
        "id": "C43LuDnVxdk0"
      },
      "source": [
        "Here the data compression is not lossless. The data after decompression won't be exactly the same as the original. It will be an approximation."
      ]
    },
    {
      "cell_type": "markdown",
      "metadata": {
        "id": "0rycJO24uTN_"
      },
      "source": [
        "How can you evaluate the performance of a dimensionality reduction algorithm on your dataset?\n",
        "\n",
        "Intuitively, a dimensionality reduction algorithm performs well if it eliminates a lot of dimensions from the dataset without losing too much information. One way to measure this is to apply the reverse transformation and measure the reconstruction error. However, not all dimensionality reduction algorithms provide a reverse transformation. Alternatively, if you are using dimensionality reduction as a preprocessing step before another Machine Learning algorithm (e.g., a Support Vector classifier), then you can simply measure the performance of that second algorithm; if dimensionality reduction did not lose too much information, then the algorithm should perform just as well as when using the original dataset"
      ]
    },
    {
      "cell_type": "markdown",
      "metadata": {
        "id": "zIZF5SePqTiP"
      },
      "source": [
        "### Plotting MSE vs no of principal components"
      ]
    },
    {
      "cell_type": "code",
      "metadata": {
        "id": "1Jy9cQJWRDHh"
      },
      "source": [
        "fig = plt.figure(figsize=(15, 8))\n",
        "plt.plot(loss[:,0], loss[:,1]);\n",
        "plt.xticks(np.arange(1, 31, 1))\n",
        "plt.xlabel('Number of components')\n",
        "plt.ylabel('Mean Square Error')\n",
        "plt.title('MSE vs number of principal components')\n",
        "plt.show()"
      ],
      "execution_count": null,
      "outputs": []
    },
    {
      "cell_type": "markdown",
      "metadata": {
        "id": "ed5Lnm0Vq1IY"
      },
      "source": [
        "From the above plot, we can observe as the number of principal components increases, which is the number of eigenvectors used to build the feature space, we can see the mean square error is decreasing. We also observe that when the number of components approaches the number of features that we use to build the feature space, the error is close to 0. The greater number of of principal components we use, the smaller will our reconstruction error be."
      ]
    },
    {
      "cell_type": "markdown",
      "metadata": {
        "id": "-XSZMdlMu28Q"
      },
      "source": [
        "#### Apply PCA after selecting the '7' principal components\n",
        "\n",
        "Here `n_components` represents how many optimum features need to be used to represent the 30 dimensional data without having data loss."
      ]
    },
    {
      "cell_type": "code",
      "metadata": {
        "id": "dG3srfr-ozAY"
      },
      "source": [
        "# Perform PCA after selecting the optimum no. of principal components\n",
        "pca = PCA(n_components=7)\n",
        "\n",
        "# Fit the original data\n",
        "pca_transformed = pca.fit_transform(scaled_data)\n",
        "\n",
        "# Reconstruct back the original data\n",
        "reconst_data = pca.inverse_transform(pca_transformed)"
      ],
      "execution_count": null,
      "outputs": []
    },
    {
      "cell_type": "code",
      "metadata": {
        "id": "p5Yfxtk3Uqgh"
      },
      "source": [
        "print(reconst_data.shape)"
      ],
      "execution_count": null,
      "outputs": []
    },
    {
      "cell_type": "markdown",
      "metadata": {
        "id": "zCvgiDUQTdn_"
      },
      "source": [
        "You can compare the reduced data using PCA from scikit learn with the mathematical approach for projecting the data to low-dimensional subspace and reconstructing the data back to original data of 30 features "
      ]
    },
    {
      "cell_type": "markdown",
      "metadata": {
        "id": "g0ui_C-f7mCl"
      },
      "source": [
        "#### Visualization of first 2 principal components in 2D"
      ]
    },
    {
      "cell_type": "code",
      "metadata": {
        "id": "kAsDu58d6qMt"
      },
      "source": [
        "# 2 dimensional data\n",
        "# Assigning labels to plot with color\n",
        "plt.scatter(pca_transformed[:,0], pca_transformed[:,1], c=encoded_labels)\n",
        "plt.xlabel('Principal Component 1')\n",
        "plt.ylabel('Principal Component 2')\n",
        "plt.show()"
      ],
      "execution_count": null,
      "outputs": []
    },
    {
      "cell_type": "markdown",
      "metadata": {
        "id": "U_eDa3P-zlrU"
      },
      "source": [
        "### Split the data into train and test set"
      ]
    },
    {
      "cell_type": "code",
      "metadata": {
        "id": "EHXDysGjzAR5"
      },
      "source": [
        "from sklearn.model_selection import train_test_split\n",
        "X_train, X_test, Y_train, Y_test = train_test_split(pca_transformed, encoded_labels, random_state=1)\n",
        "X_train.shape, X_test.shape, Y_train.shape, Y_test.shape"
      ],
      "execution_count": null,
      "outputs": []
    },
    {
      "cell_type": "markdown",
      "metadata": {
        "id": "mhWcJD991eAI"
      },
      "source": [
        "### Train the Support Vector Classifier with reduced data"
      ]
    },
    {
      "cell_type": "code",
      "metadata": {
        "id": "cuqstUis1i3I"
      },
      "source": [
        "clf = SVC(kernel='linear')\n",
        "\n",
        "# Train the model\n",
        "clf.fit(X_train,Y_train)\n",
        "\n",
        "# Get the prediction on the test set\n",
        "predicted = clf.predict(X_test)\n",
        "\n",
        "# Calculate the accuracy\n",
        "accuracy = accuracy_score(Y_test, predicted)\n",
        "\n",
        "print(\"Accuracy of test data is\",accuracy)"
      ],
      "execution_count": null,
      "outputs": []
    },
    {
      "cell_type": "markdown",
      "metadata": {
        "id": "XoFCyicDLeP1"
      },
      "source": [
        "### Model Evaluation"
      ]
    },
    {
      "cell_type": "markdown",
      "metadata": {
        "id": "1zJ5iUWULiIW"
      },
      "source": [
        "#### Classification Report"
      ]
    },
    {
      "cell_type": "code",
      "metadata": {
        "id": "dm7IVK0EkPGi"
      },
      "source": [
        "# Classification Report\n",
        "print(classification_report(Y_test, predicted))"
      ],
      "execution_count": null,
      "outputs": []
    },
    {
      "cell_type": "markdown",
      "metadata": {
        "id": "fgz9bfQRLno-"
      },
      "source": [
        "#### Confusion Matrix"
      ]
    },
    {
      "cell_type": "code",
      "metadata": {
        "id": "tE_b5DXolOL-"
      },
      "source": [
        "mat = confusion_matrix(Y_test, predicted)\n",
        "# Visualizing the confusion matrix as a heatmap\n",
        "sns.heatmap(mat.T, square=True, annot=True, fmt='d')\n",
        "plt.xlabel('true label')\n",
        "plt.ylabel('predicted label');"
      ],
      "execution_count": null,
      "outputs": []
    },
    {
      "cell_type": "markdown",
      "source": [
        "### Problem Statement: Gaussian Mixture Model (GMM) Clustering"
      ],
      "metadata": {
        "id": "I0uO01yiSm0V"
      }
    },
    {
      "cell_type": "markdown",
      "metadata": {
        "id": "rlfhVGmy95YI"
      },
      "source": [
        "### Dataset Description\n",
        "\n",
        "\n",
        "The Iris dataset consists of 150 data instances. There are 3 classes (Iris Versicolor, Iris Setosa and Iris Virginica) each have 50 instances. \n",
        "\n",
        "\n",
        "For each flower we have the below data attributes \n",
        "\n",
        "- Sepal length in cm\n",
        "- Sepal width in cm\n",
        "- Petal length in cm\n",
        "- Petal width in cm\n",
        "- Species: Setosa, Versicolor, and Virginica\n",
        "\n",
        "\n"
      ]
    },
    {
      "cell_type": "markdown",
      "metadata": {
        "id": "og1EHpbjgrHP"
      },
      "source": [
        "### Problem Statement"
      ]
    },
    {
      "cell_type": "markdown",
      "metadata": {
        "id": "rSwgCEA_uJ40"
      },
      "source": [
        "This data set consists of the physical parameters of three species of flower — **Versicolor**, **Setosa** and **Virginica**. The numeric parameters which the dataset contains are **Sepal width**, **Sepal length**, **Petal width** and **Petal length**. It is a multivariate data set which is used for multiple measurements in taxonomic (the scientific process of arranging things into groups) problems. This data can be used to quantify the morphologic variation(additive genetic variation) of Iris flowers of three related species based on the provided features. \n",
        "\n",
        "Therefore, based on these features we will try to cluster the flower species using clustering algorithm and compare their accuracies."
      ]
    },
    {
      "cell_type": "markdown",
      "metadata": {
        "id": "commercial-operation"
      },
      "source": [
        "## Information"
      ]
    },
    {
      "cell_type": "markdown",
      "metadata": {
        "id": "0BoBOmKv5WyN"
      },
      "source": [
        "* Clustering is one of the most common exploratory data analysis technique used to get an intuition about the structure of the data. It can be defined as the task of identifying subgroups in the data such that data points in the same subgroup (cluster) are very similar while data points in different clusters are very different.\n",
        "\n",
        "* Clustering analysis can be done on the basis of features where we try to find subgroups of samples based on features or on the basis of samples where we try to find subgroups of features based on samples. We’ll cover here clustering based on features. \n",
        "\n",
        "* Unlike supervised learning, clustering is considered an unsupervised learning method since we don’t have the ground truth to compare the output of the clustering algorithm to the true labels to evaluate its performance. We only want to try to investigate the structure of the data by grouping the data points into distinct subgroups.  \n"
      ]
    },
    {
      "cell_type": "markdown",
      "metadata": {
        "id": "88ReorDEJI15"
      },
      "source": [
        "\n",
        "### Import required packages"
      ]
    },
    {
      "cell_type": "code",
      "metadata": {
        "id": "z5XRwV9dJM1S"
      },
      "source": [
        "import matplotlib as mpl\n",
        "import matplotlib.pyplot as plt\n",
        "from matplotlib.patches import Ellipse\n",
        "import seaborn as sns\n",
        "sns.set(style=\"white\", color_codes=True)\n",
        "\n",
        "from sklearn import preprocessing\n",
        "\n",
        "from sklearn.metrics import silhouette_score\n",
        "from sklearn.decomposition import PCA\n",
        "from sklearn.mixture import GaussianMixture"
      ],
      "execution_count": null,
      "outputs": []
    },
    {
      "cell_type": "markdown",
      "metadata": {
        "id": "nIB864jRJQbM"
      },
      "source": [
        "###Loading the Data"
      ]
    },
    {
      "cell_type": "code",
      "metadata": {
        "id": "jZS5VcLmJXnO"
      },
      "source": [
        "data = pd.read_csv('/content/Iris.csv')"
      ],
      "execution_count": null,
      "outputs": []
    },
    {
      "cell_type": "markdown",
      "metadata": {
        "id": "aJGrSOZjrnIg"
      },
      "source": [
        "Let us have a look at the shape of the dataset."
      ]
    },
    {
      "cell_type": "code",
      "metadata": {
        "id": "Vx9QJBNvgHRr"
      },
      "source": [
        "data.shape"
      ],
      "execution_count": null,
      "outputs": []
    },
    {
      "cell_type": "markdown",
      "metadata": {
        "id": "jIqRdpUIEsdg"
      },
      "source": [
        "There are five features with 150 rows of information related those features."
      ]
    },
    {
      "cell_type": "markdown",
      "metadata": {
        "id": "lTco8pYurq_o"
      },
      "source": [
        "Let us drop 'Id' column from the data as it adds no significance to the information."
      ]
    },
    {
      "cell_type": "code",
      "metadata": {
        "id": "5EeSSem5r1Y8"
      },
      "source": [
        "data = data.drop('Id', axis=1)\n",
        "data.sample(5)"
      ],
      "execution_count": null,
      "outputs": []
    },
    {
      "cell_type": "markdown",
      "metadata": {
        "id": "7ArgZeD7sDHr"
      },
      "source": [
        "Further, let us split the dataset into fetures and label that would help us to apply the algorithm on features."
      ]
    },
    {
      "cell_type": "code",
      "metadata": {
        "id": "Cb3CZ1YUJZ66"
      },
      "source": [
        "# Split the data into features (X) and labels (y)\n",
        "X = data.iloc[:,0:4] # First four columns as features\n",
        "y = data.iloc[:,-1] # Taking species as label"
      ],
      "execution_count": null,
      "outputs": []
    },
    {
      "cell_type": "code",
      "metadata": {
        "id": "-yRe1Bz5u5ED"
      },
      "source": [
        "# Let us have a glance at first few values of the splitted dataset\n",
        "print(X.sample(5))\n",
        "print(y.sample(5))"
      ],
      "execution_count": null,
      "outputs": []
    },
    {
      "cell_type": "markdown",
      "metadata": {
        "id": "Yl5YM004JcRd"
      },
      "source": [
        "### Data Visualization"
      ]
    },
    {
      "cell_type": "markdown",
      "metadata": {
        "id": "KjwcFvRKvdwn"
      },
      "source": [
        "Let us count how many values are there in the individual species."
      ]
    },
    {
      "cell_type": "code",
      "metadata": {
        "id": "Qgete-1UJhfc"
      },
      "source": [
        "data[\"Species\"].value_counts()"
      ],
      "execution_count": null,
      "outputs": []
    },
    {
      "cell_type": "markdown",
      "metadata": {
        "id": "rvT8CrMsvkck"
      },
      "source": [
        "All the three species have equal weightage in the dataset.\n",
        "\n",
        "Now, let us visualize species for each sample for **sepals**."
      ]
    },
    {
      "cell_type": "code",
      "metadata": {
        "id": "TLKiFa-UJiDD"
      },
      "source": [
        "sns.FacetGrid(data, hue=\"Species\", height=4, aspect=1) \\\n",
        "   .map(plt.scatter, \"SepalLengthCm\", \"SepalWidthCm\") \\\n",
        "   .add_legend();"
      ],
      "execution_count": null,
      "outputs": []
    },
    {
      "cell_type": "markdown",
      "metadata": {
        "id": "-BKPXi6xwDiB"
      },
      "source": [
        "Now, let us visualize species for each sample for **petals**."
      ]
    },
    {
      "cell_type": "code",
      "metadata": {
        "id": "xGD563gfJkLr"
      },
      "source": [
        "sns.FacetGrid(data, hue=\"Species\", height=4, aspect=1) \\\n",
        "   .map(plt.scatter, \"PetalLengthCm\", \"PetalWidthCm\") \\\n",
        "   .add_legend();"
      ],
      "execution_count": null,
      "outputs": []
    },
    {
      "cell_type": "markdown",
      "metadata": {
        "id": "TaGpbuLywMNP"
      },
      "source": [
        "**Interpretation**: Note that the species are nearly linearly separable with petal size, but sepal sizes are more mixed. Therefore, sepal sizes can be a major concern while differentiating between versicolor and virginica.\n",
        "\n",
        "Also, we can observe that the petal length and width for virginica is highest among all three species."
      ]
    },
    {
      "cell_type": "markdown",
      "metadata": {
        "id": "CjZql2VezOAt"
      },
      "source": [
        "Let us visualize each pair of features present in the data.\n"
      ]
    },
    {
      "cell_type": "code",
      "metadata": {
        "id": "kVOYDr-5Jx7I"
      },
      "source": [
        "sns.pairplot(data, hue=\"Species\", diag_kind=\"hist\", size=1.6);"
      ],
      "execution_count": null,
      "outputs": []
    },
    {
      "cell_type": "markdown",
      "metadata": {
        "id": "ksy-L6RSztgB"
      },
      "source": [
        "Here, the above plot shows how similar versicolor and virginica are, at least with the given four features (Sepal Length, Sepal Width, Petal Length, and Petal Width).\n"
      ]
    },
    {
      "cell_type": "markdown",
      "metadata": {
        "id": "aiUDQLAX1aPJ"
      },
      "source": [
        "Now, let us plot a pairplot and understand about the data distribution whether it forms multi gaussian distribution or not."
      ]
    },
    {
      "cell_type": "code",
      "metadata": {
        "id": "kIV-o2e_YoDQ"
      },
      "source": [
        "sns.pairplot(data, hue=\"Species\", size=2, diag_kind=\"kde\");"
      ],
      "execution_count": null,
      "outputs": []
    },
    {
      "cell_type": "markdown",
      "metadata": {
        "id": "JigxmVwj28pa"
      },
      "source": [
        "Here, in the above plot, we can see see the gaussian distribution for all three species based sepal length, sepal width, petal length, and petal width.\n",
        "\n",
        "**Note :** We can apply Gaussian Mixture on the data which follows multivariate(multiple random variable or more than one feature) gaussian distribution."
      ]
    },
    {
      "cell_type": "markdown",
      "metadata": {
        "id": "v3clDdeWJ3pL"
      },
      "source": [
        "### Feature Scaling"
      ]
    },
    {
      "cell_type": "markdown",
      "metadata": {
        "id": "XHrBcbOQBHHs"
      },
      "source": [
        "In this dataset, when you observe it carefully you will get to see that the data is unbalanced i.e. **sepal length ~ 4x petal width**. So, this will effect the prediction as higher values can be given a higher significance. Therefore, we have to scale the data within a common range using feature scaling."
      ]
    },
    {
      "cell_type": "code",
      "metadata": {
        "id": "6sH_hIEMJ1Vw"
      },
      "source": [
        "scaler = preprocessing.StandardScaler()\n",
        "scaler.fit(X)\n",
        "X_scaled_array = scaler.transform(X)\n",
        "X_scaled = pd.DataFrame(X_scaled_array, columns = X.columns)"
      ],
      "execution_count": null,
      "outputs": []
    },
    {
      "cell_type": "markdown",
      "metadata": {
        "id": "Vwa3nEB6HBsu"
      },
      "source": [
        "Let us look at data/information after scaling has been performed."
      ]
    },
    {
      "cell_type": "code",
      "metadata": {
        "id": "dcnnw93eHQcr"
      },
      "source": [
        "X_scaled.sample(5)"
      ],
      "execution_count": null,
      "outputs": []
    },
    {
      "cell_type": "markdown",
      "metadata": {
        "id": "1FUXrFDiKc-M"
      },
      "source": [
        "### Applying Principal Component Analysis (PCA)"
      ]
    },
    {
      "cell_type": "markdown",
      "metadata": {
        "id": "Xfc1bP9aThto"
      },
      "source": [
        "\n",
        "If you have a lot of features it can be helpful to do some feature reduction to avoid the curse of dimensionality (i.e. needing exponentially more data to do accurate predictions as the number of features grows).\n",
        "\n",
        "You can do this using Principal Component Analysis (PCA), which remaps the data to a new (smaller) coordinate system which tries to account for the most information possible.\n",
        "\n",
        "You can *also* use PCA to visualize the data by reducing the features to 2 dimensions and making a scatterplot. "
      ]
    },
    {
      "cell_type": "code",
      "metadata": {
        "id": "pRTXH0XqKksY"
      },
      "source": [
        "# mash the data down into 2 dimensions\n",
        "ndimensions = 2\n",
        "\n",
        "pca = PCA(n_components=ndimensions)\n",
        "pca.fit(X_scaled)\n",
        "X_pca_array = pca.transform(X_scaled)"
      ],
      "execution_count": null,
      "outputs": []
    },
    {
      "cell_type": "code",
      "metadata": {
        "id": "j7a7-e1U20Ti"
      },
      "source": [
        "X_pca = pd.DataFrame(X_pca_array, columns=['PC1','PC2']) # PC=principal component\n",
        "X_pca.sample(5)"
      ],
      "execution_count": null,
      "outputs": []
    },
    {
      "cell_type": "code",
      "metadata": {
        "id": "AFNlNQbJq1Cx"
      },
      "source": [
        "plt.scatter(X_pca['PC1'],X_pca['PC2']);"
      ],
      "execution_count": null,
      "outputs": []
    },
    {
      "cell_type": "markdown",
      "metadata": {
        "id": "8c_UnO--VZp3"
      },
      "source": [
        "So, now we have new 2d coordinates for each data point.\n",
        "\n"
      ]
    },
    {
      "cell_type": "markdown",
      "metadata": {
        "id": "oeigWDi3K59S"
      },
      "source": [
        "### Gaussian Mixture Model (GMM) Clustering"
      ]
    },
    {
      "cell_type": "markdown",
      "metadata": {
        "id": "R4ibISZbt_Bp"
      },
      "source": [
        "Gaussian mixture models can be used to cluster unlabeled data in much the same way as k-means. There are, however, a couple of advantages to using Gaussian mixture models over k-means.\n",
        "\n",
        "k-means does not account for variance(width of the bell shape curve). In two dimensions, variance/ covariance determines the shape of the distribution.\n",
        "\n",
        "![gm1.png](data:image/png;base64,iVBORw0KGgoAAAANSUhEUgAAAZAAAAEsCAYAAADtt+XCAAAAAXNSR0IArs4c6QAAAAlwSFlzAAALEwAACxMBAJqcGAAAAVlpVFh0WE1MOmNvbS5hZG9iZS54bXAAAAAAADx4OnhtcG1ldGEgeG1sbnM6eD0iYWRvYmU6bnM6bWV0YS8iIHg6eG1wdGs9IlhNUCBDb3JlIDUuNC4wIj4KICAgPHJkZjpSREYgeG1sbnM6cmRmPSJodHRwOi8vd3d3LnczLm9yZy8xOTk5LzAyLzIyLXJkZi1zeW50YXgtbnMjIj4KICAgICAgPHJkZjpEZXNjcmlwdGlvbiByZGY6YWJvdXQ9IiIKICAgICAgICAgICAgeG1sbnM6dGlmZj0iaHR0cDovL25zLmFkb2JlLmNvbS90aWZmLzEuMC8iPgogICAgICAgICA8dGlmZjpPcmllbnRhdGlvbj4xPC90aWZmOk9yaWVudGF0aW9uPgogICAgICA8L3JkZjpEZXNjcmlwdGlvbj4KICAgPC9yZGY6UkRGPgo8L3g6eG1wbWV0YT4KTMInWQAAQABJREFUeAHsnQecZEW1/0/P5rzLsrtkdoEl55xZQQQFRVCeGBBQMfB4BsSMEQz4nuHJM/AeggLmv4CKoOQgSZDMEnaBJYcFls15+n++VX167t7tnunu6e57Z+acz0zXvXUrnPrVuedUulWFopI4OQKOgCPgCDgCdSLQUWd4D+4IOAKOgCPgCAQE3IC4IDgCjoAj4Ag0hIAbkIZg80iOgCPgCDgCbkBcBhwBR8ARcAQaQsANSEOweSRHwBFwBBwBNyAuA46AI+AIOAINIeAGpCHYPJIj4Ag4Ao6AGxCXAUfAEXAEHIGGEHAD0hBsHskRcAQcAUfADYjLgCPgCDgCjkBDCLgBaQg2j+QIOAKOgCPgBsRlwBFwBBwBR6AhBNyANASbR3IEHAFHwBFwA+Iy4Ag4Ao6AI9AQAm5AGoLNIzkCjoAj4Ai4AXEZcAQcAUfAEWgIgcENxWpipM7OzpBaR8fatszOuioUCsJ18h4/J0fAEXAEHIHsECioUs7sREKyrmYIks8wMmkDk3yeHXyesyPgCDgCAxeBTHsgGI8HHnhAFixYIPvuu2/ZmJhxePXVV2Xx4sWyySabyAsvvCD33XefDB48WHbddVdZZ511Qo8kbYCI6+QIOAKOQH9CIK3n8lK2TAyI9Sj+9a9/yS233CIjR44MhuJNb3qT2DMA+vznPy9HHnlkMCB//vOfZeONN5Zhw4bJqlWrKuJnhqfiQ/d0BBwBR6CPIpBX3ZaJATFretddd8nxxx8vEyZMkC996Uty8MEHy6BBg0IV33jjjbJy5UqZPHlyuP/73/8up556qkyaNCn4pQG1+9WrVwv/eSOG4OCR/7wRvNlcVJ54Q074zyNvNqSaV95c1uqT5DzLGjqRf9Nx9ZWstaEzMyD0IhYtWhR6H8uXLw/gYDAYopo5c6Y8/fTTcvLJJ8vcuXMDAh/+8IdlzJgxcv7558sxxxwje++9d7m3YsA+99xzcuGFFwaDhBExQ9VaCLtPHd6o/Hnz5oWyDh06NPCdNW+GGQrwpZdekilTpoR5JvPvvlStfQoPKOgVK1bIkiVLclmfJpc0aFzWupcHkymXte5xSj8FN9Md73//+2XDDTfMnRHJxIAADIZi9OjRMn/+/KAghg8fHoanAPGRRx6Ru+++W/75z3/K66+/Lttss41sscUW4X/hwoUyZ86cYEAMcBPQWbNmhfmRww47TJYuXbrWxLuFb6fLSzNixAi57rrrZLvttpN111039KyyNiBggJIGp5/85CeCgMJnHlrU1OeQIUPklVdekYceeij0TPNWn3/4wx+CGB177LEuazW8UC5rNYCUCmK6g9EXdJsbkBJApvD32Wcf+fnPfx56FkcccUSYTGdO5Kijjgq9DJQuk+jTp0+Xz372s7LXXnvJgw8+KCeddFJIKa2Ead1jmCCUYZ6IuRuMpHVH88QbLzd4obTzRMlGRd7qM8lP8joP+Lms1V8LeZa1UaNG5aIxXAnVTHogKCyMyI477hiMB4xNmzYttOR22WWXoGTxY5iKYS3ozDPPDKuw3vCGN3S7Asta0LhmYMgrK4IPjBpCYJSXIQ/wgb/tt98+uOCUBVZWT4YPLn7ICcOWULI+g0dGP+ADX9ZQySNvYAaPUBb1GTJO/Vgd884b5Ym3PMtaXmTf6i3pZmJAYACBQoAwHBDXtOSsNcc9q7PsGa2qPffcs3xvAhk8qvxYGHOrBGupt73IlHPcuHEhL3oheSFwZQk1LpQlVmlM6FEyN2N85YE3U3omp8ZzHngzXsAM7Aw388/aRe6TDcQ8YZZnWcu63rrLPzMDAlMIkL2Q6ev0PeH4x5//euj++++X1157rdyzqSdub8PCMy8OE9UYEBR1nloU8MKEMJPBZux6W+Za49MTGzt2rOy0005V6wb+8kgmt3nkLa+YgVW1Jfh5wDHPuOUBn0o8ZGpAYChpDJLXlZ6ln1cqUNqPlV5Mxu+8885hVU8jaaTTbOTeJsDMoDSSRqvi8H1Nu18ecKCHyZwXxgse8EvXT/q+VRjUm25e+aIceeatXpzbGd5xqx/tzA1I/SzXF4M5FIzH7rvvXl9ED90WBFiqy7+TI+AI9D0E+r0BoVXBdyZQXiav+56YNJ9jejxMRC9btsxbzM2H11N0BNqCQL83IKBoXVPcNcb5dcikrVTn3E29vNkwFOW0MteSRqWho1ri1RuGfKAkb8nretPz8I6AI5AtAgPCgFSFuMUKvWq+pQemUJPhUKjmb9dJJWvPiJP05z5pHAmXfk4YKJ2GhUv6x5Br/6bD2r2FTKaRfIZxM/6SYSyeu46AI9D3EBi4BoTWcJVNGVtWjazNTyzhTSrYZJ5J/+Q1YdL3KGP8GJ67+eabhR2MDz300LC6yZ4l0077sTrtiSeeCHNE6bST8eza4ltYu7fn5m/3uGY8Hn/88fCtj313kgzj146AI9D3EBh4BgTDQc9D91iST39adH2v6CfYNMtbV3usyX/4YZFvfENEt1khL3LjK3u2cuELcJazsmX9NP1ehP2fUMR8a8BWLiz/5R4jwTMIxc2SYFvvf+utt8qTTz4ZPgq8+OKL5ZRTTgnhkj+m7Ml39uzZsvXWW4d5CPsCna1DWLXGdivMTzC5jd9GG21UXgZtez89rOUZP358eGbpMtfEvxkRVlnR6+Cf/NhR4Iorrgg8EsfJEXAE+jYCA8+AWH2pMpbf/150l0Pzab2rxsCIVvnXv/71sM8XShpljPKeMWNGcDEWfHX/3e9+V7761a8GY8E+YChgFDRhDzzwQNlqq61Ckk899ZSwHT7LhX/729+GyWm2Z0gqauIxaf2f//mf4aPMxx57THbbbTd5/vnnw75kv/nNb2T99dcPZ7SwkeUPfvADectb3iI//vGPZY899hA2qzzhhBNCT4cdlOGFHZRthRsGjF4Qe5xBxLWPJ/G77LLLcrddSmDUfxwBR6AhBAauAVFlKgccIPLss6IfJDDO0hCANUViX65rrxXdDCv0PFDkKHZa5h/4wAeEzdK4Zm+wyy+/PBgTlD+U/PCKXsHEiRODP617633gwWaD3JMuPRMzHNYbCJH0h94GW+RjgFjezEeOHOjF9xjveMc7gkH7yle+EnpHGDN2Pv7LX/4ixx13nFxzzTXakXo49FzoGZEHH0gakS9pwzv52nYfGMP11ltPNthgg/LuyhbHXUfAEei7CAw8A4LhgNibSod6VAvG+1b+kicGShWsEcrXtjTBSNBCN2Nhy45tCClpBDA0EG7SH8PCMBGGBSOBMofIBwVOXoQn7f322y8YnHPOOUfe+973hrCEefHFF0MPht4R//SKINuPijAMf11//fXhoC87FTIE0h/Shy/jMenPNXmTrpMj4Aj0DwQGngGxekMRlzbqM692uHoIfZiDQdnSIocwHih+lDy9CI7sZdjIWvumkAnHBHmSUMg833///UOcv/71r/K+972vrMQxQv/93/8tn/jEJ4KhwLjccccdwagwBEaPgYl3hr84S4Xdjvn4MrkvGV+JQ/hhmLbddlt59NFHwxknbLMPYVymTp0a/oNH6QcDZoaODSVtc8xkGL92BByBvonAwDUg1BfKvN2khgNieOejH/1ouEb5o2T5f9vb3haefUMn3DEOGBRTwChj/o3wx3jghyH48pe/HHoxNvdh8XbYYYfycBIGhMO5GLaynsVmm20Wzl/BUDCZjyFj11TrLXzqU58KWdJzIT+21Sc+Bs14Io5dJ/kzHvBjzyvj34yihXXXEXAE+h4CA9uAlJR5VtVmcwQoXyP8ULLJ+Q17hjJOKuSkP3GIa/EtHOkcfvjh5XiE4xmGAjKFvuWWWwqT9PRY6MEQxviqxKfFNx5wiWP5Jv3t2o2GIeGuI9A/EMilATEl1z8grl6KauVECZti704hJ1OuFicd3+4tb4tHb+Kggw4qJ2nP8UheW4BKfvbMXUfAERgYCOTKgKCUIFNqpuysKvqb0kqXz8ppGCTva7nuLr10/GRYrsE2iX/6eXfx08/83hFwBAYGArkxIEnjwEQrY/VJsufmJp81el2yV41Grzue6umWks1ZoPyTBqC7TMGTf4aXao3TXXrVnlk+PO8XQ1ntFp5qwLq/I5AhArkxICgvFOAll1wit99+e1heyullpnhQOmyFwTcTlb6yNgxNieISx+Lb86TbaoWezKvSNbwZUX7u00o87ZeOY/Fxk4o5HS8ZLp2G5Z0Mk/RLXxPO0qjEr6Vjz4wXu7fn5lpa5uJveZqfuRYnM7dUZ0WVrTKpXx74g4e84mZ8gZlhZW4Zx4wujDfjx9yM2ClnazoM1+Yjyw9zcpELA2JA/eMf/wjLQc866yz54he/KNttt115FRKTu3y3wFJSC5/GkIrnOWQTv7gISJrQA6Xj1tOPWnJPfsyVKztlSvOVvidg2i99X05MLzg4i6/aDznkkLDcFjwqhU/68UEgX5iDdZqS4eza0kzfW1zzt3sLzzcmLB/muFU7mtjCWF0lDSDPeGnsxUk/s7jtdgulBQ+DVB6NOhKLIMwvC9ewT+Jmflnwk84TvqhHq9O88WZ85UXW7L1Ap+V1+XtCnaWru/33LA1lKw6WofJ9AftEsfcSRM+Dr7YfeOCBNVraSS4Z9rrxxhvDUla27GD5Kl9cY3CMUOTYE/0eTj7yEZGXX47f9+HfKuKbvquuEvnd70SOOIIWGDkVA198XIfgwjsf6bG0lm8qIPwRHDOClMM+MkQxE8ee3XXXXcJ+WKym+sMf/hBWUoVEEj+mzEl/nm7hwp5XvCz2ASOYkR/fpPBykx9fuMMTLmQGmk0Y+SaEbzssXeLyb4qB55b+N7/5TXnPe94jNBJoDPANihFH6vJRImWzuMTjnvpjJZlhYnHa7lJpyscQldGxuoXLnr/4RWRBN6JcoFu2rGRVG0alQmOlnbwiM7xH1B34J2W/nXyk8zJ5YqUfckv9Ijd5oLzJGvzwvvEdGLqQXSKSC1zygJnxkCsDgrCbAkFhACTEmebnnnuu8D3ClVdeqTuQHCCbbLJJWXFZYXB5aQAdQrmaFQ8eiR/NSvSbOzVSCc8WX6ouLBNl/c53vhMUMoqbPaj4OO/9739/2ECR8lNO9q36tG76SLkwqL/+9a9DGvQc3vrWt4bvNfAgLtuOgAs4vfOd7ww4mHI3FwX/k5/8JHzECA/77rtv6LXQC/npT39a3pPrXe96l5x//vnCNyLky5fuKPqPf/zjuivLtUExsZfWkUceWe69zJw5s7wVCzzxlTtfs5P3F77whZAn+25hKJOE0qOeKLPVPy7+yAAuZM+ScdtyjbAo/sVnnpFhRx0F2FLeU+C222SY7kfW+ac/SYEPLtXoKdNtYSudCTgnMbPrdLis7qk/q097t7PiJZlvnmSNOgQb3gcaa7z3/OeVcmVA2C/pvvvuC0rrWd2jiqWlKBw27vvMZz4TWlYMhQByJUI57r333mGDQHtORZBWmnjH6Q20sweixVHqGqfmC3CMyN/+9rcgNHxEyH5TbEBo34EQxgg/PvCDaJ2DCwQeKGUEDiWMaxillS7+tOrx54tywmMY2NPq6KOPDh/7nXHGGSEMvcAPfehD8u53v1t+9atfBcNx7733yjTdMRgDxs7Ac+bMKRsQehF8ZGgCb2WgDvjq/oYbbpBZs2aFuoQP44148Mx/kqhPjJx98Jh81vZrtv7XRgzGQ3ewlKIaT6igPb5hGBSe6caXYV+1tjO3ZobUC4abln7eiMaSyW2eeMuVrCkwfGfFx8EQIwTwl0fKhQGx1ghj4y+rRmdX2FNPPTUoUdvkz7bT4MXYdNNNg4I0BWTAco+AQoCO4kIBmTLFX4MEYiusCy6I1+34xeaVGtIhO3hi+Acly4uOsbQXHuNgSjjZWkfZUz4rJ2WDuAcXehH2clpa5MO/YUycI9Ry0qtgwQI75pIX92DGc+7JC8xpxbKdO+mRBsqJYUS2WyFPSxc+jD+uyZN7CP5uuummMAdy+umnhzR5Zj0LC0fehLU4+FsZSS8TIl9aG3/+s+j2xFKYOjUMVYXeBgwxbKV+RX2m+8mIdgPjvmelchCknQR+YAZ21FlmuKUKDV9Wn7jUfR55g+288EU9ghPvPLosj5Q7rhgSMaIijz322FChpkgY1sHfFI2FNdf8k4rN/CwMLu+36u62U7HIEtuoVDEaEC+6KVN45ZyO3+tW82zRThh7Rquk2l5YtPx/oePy9GDoSZjA0XK5QC3lSSedFIwV6TMPwdAUBsLSP0zPKSH+nXfeGXofSZ6SfIIrz2x+wnBGKUxVRcp/mhiTZyiOumUocsaMGeVeSzIsvCXrqtJ9MnzLr8140E3V7V+0SSja5RLds17k+9+P2Z92WtjVucAzwmBEuCaulqedZIoviVsSz3byUikv4yXtVgrbbr8kZuRtPLabj2R+xoO5yWd5uda9/ZD0fJCxAmBcJ13j0PztHhfjgiKjt4IiY4LW/BhqYWyesX7zs7jtLnlan6DcUcbwDFEGegH40SOgrAzf4G9YGEaEx8/8cemtMEFNL8Rw4p4t4pkvIV2I/OjpsUAB40RcehVMjDOBfvXVV8vnPve5EJbnxie8wQs42sQ3hsoMHHlW4o/8+CcdXOao4IV8GdZi3gaDZjyHjPUHI8VkP0Ob6WcWpqWullMLLDrxxIROzEoNoWA0MBSQGuNgTHSINZAO9elqgdgLIW4byTBimBcZsF5sG1noNivk5gU9NI35PuQoT5S5rFUAw/QVvXfeMfaiM78KwTPxylUtolD4h9KuoWP+dl+La0oNN/mvzUSN3r7/ZN5co0RxeZnshcIPIWEehCGipHKmrIaR4UB8iDgMiaE4uIZ4RnwzHvjzjx8vMcrf4qOkmRtB+Xzwgx8MYeCJ58Yn4cnX4qOguCaMpZPmj/xIh6E6+KMXxXWSx8Bs3n7AFSWnDRD50Y+6uNPFCcGfVWn8EwY/I8ISB3/ScHIE+jECuRvCagXWNpmLsssbmSFI8mXGxPwqhbFn5ibDJONTZit30t/imR+9EeZGkpRM067NrRYu6c91pfD4G08YITM++OeGUP40Zu65R3TyJrKlJ0MKQ3TMe2hPLVBpDkSPjRQ9YjKGJY6eJhkMSKlBFAP7ryPQvxDo9wYEBWnndzMZZQqz3dVIvtbqbnfePeUHbwwtmSJH6VdT/D2lVetzsGDV1UMPPRS+/ak1XtvCWQ9Ch//KZAZWeQ/GhQdcQzzDgEDEmTEj9kKCh/84Av0TgX5vQBg2YTnqM7qGH0VpSrKd1UlrmzkD5jPoDWXBQ6XyYiRQ5CwV5juPVhuNJA+WN1/A28Fa7cw/ycta19b70EUM5clyXWSg655jUIyLkV3zjDD6wWuI8x//EXsrlpaFd9cR6EcI9HsDgvJmAj1rYjLYlthmzUs6fzMgaf8Be29KX09nLJOekaKTOOXbtS54RhgMCETcqVN9GCuA4T/9FYF+b0CouCyHjuhtYMTYmoDVRwzbZMlPWpDhBd5shVX6eTvusxpWrFo2ehUMTbH/jJFu7NkjJcMQV7+xCZPpPUb0AI5A30RgQBiQLBWUDVfBg/Fhbl5EhqGjJH954SsTPqz3oTsg6O6dkQXmNzbfvGd2CENY9sgh7mc/K/oVpvdCekbOQ/RRBBKDuX20BM62I9BMBDAgkG65UqZ3vEO0+9j9slziEYawRpaGpWn+7joC/QQBNyD9pCK9GE1CwCbFbekuydpW97biqlJW9szCEsbSsDQrxXM/R6API+AGpA9XnrPeZASsp8BuwQxDQTvvLLpHfrzuzhDYM8ISByIN23nY0o5P/NcR6BcIuAHpF9XohWgKAqbkGXpiixLo8MNFtwWI17X8EpY4EGn4MFbEwn/7JQJuQPpltXqheoUA338YcfCVLjIIq7LMr5rLMBZhE4dl6Y6Y1UK7vyPQ5xFwA9Lnq9AL0DQEGIbCCNxwQ1eSutFj3ZSMQ1qkaUNcdSfmERyB/CLgBiS/deOctRMBG77i2Ejd1TnQwQeLbhMcr+lZ9EQWhjjEhUjLjqK0POIT/3UE+jwCHVmXgA/Z+LfvJYyftD/P034W1l1HoNcImHKfPVv0UJSYnJ49E5bmcmfGobuMLAzLeYkLkRZpQpZHvPNfR6DPI5D5h4TJj+owEnzUhlvJP7lXkoXt8zXgBcgXArqdfZn0eOTy/EetQ1A2XEVco2Sa5ueuI9APEMi0B4IR4BCoq3TbBw4bMuOByw66l112WTirm/s5ehLcpZdeKn/5y1/CYUgWNl0HpJl36gs8Zolh2/FBZjAQuLfe2lV0PTOlKhG2O1lLxiXNZB5VE23+g7Zj2fwitDTFvoBPnnnMxIAwFAVxtCon4XH6HqfmQRiG53UbCY5mnTp1qpx99tlhn6a/6yZ17CXFQfN2XGuIkPgBaDtnItmDSQRp+yXlMbJrc80/Sxde7D9LPpJ5Gz7m8ix5nQzblGurI872uP32mCQrqaZPj9fW+7BwuMl/QtkzC0tcW41FmqSdDBfvmvqbxMiuzW1qRg0mBi/232ASTY9m+JhLBsnrpmdYR4Kmw9BpeTUimQxhGTAP6o6l79MdTNnm/Atf+EI40IjtztdZZx352Mc+ph/y3hGOM2WjP45Z/dCHPhTg5zmUrmjuOVUPA7VkyZKwdTp5AX46bEigDT/kjcGzI10RBvjLih8rsmECL8Zb1lgleYMXOwIXXpGBlmGmGBRV7joef1wGXXttYKNz++1ltdZVQfMNvQcMhPJRVL4K2lsepHGg1Xod/LgvhcEtatxBmkaHHkcqmuZqTbtTt3wvYEjMyIQUmvfjslY/lmDWVlnrgcXke8lx1BwxzVHVo0eP7iFmNo8zMSAUFYWAkudEOoAy5cUzehoQ5yfbiXVnnHFGOMP75z//eYj3Bj3xDeVHPCOMD8Nc9GBIkzAYJxRky5SPZV7FRSAwGvSyKLMdD1sleNu94W/BggUBn6wwqlRoeMGA8PJQxy2tQ5WjTn1RR8+cKRNKzCzZdVeZp7h06LnswTDgr1gpM8EIrKe8QZwtj/FRYVwjXKfK9QRNw177BZr2oilTpENlnjRaQS5rjaHaVlnrgUWrw4ULF8r1118fGsE0pDlmOo+UiQEBJFrlnPmNkeAwIyysDU098cQTQXm8U8+aZgjr7rvvDkNXG264oey5557hAKRKYGI0jjvuOJkxY0ZQ1pZepbDt8qOsCCj/nAeCQcwTmRHmTPSkMc4Dj8tVeXOOCrwZji3hC8Og9aNWvpz86K23ltF6zG8wDGmFr3KmFRnChsOwMCBJwpgQR9MwmqBpT1A51+51l6Gxh01yDSOXtfoBbZus1cja+jqHtpkuB0eHTZs2LTSIa4za1mCZGRCE/EAdIz7//PNDj+OYY44JyuK2226TPfbYQ3784x8H4DAsu2pL7gc/+IFM0RYcLT6zxqSRJlOCNheSfu73ayOA4hmwZMZDe6na5IswsAW7vrSBkjJmYSuBlXxmcUiDtJ59NqZ94okcBt81JFYpnX7uN6Blrc66NR1mOq3O6G0JnokBARAEabpONJ5++ulhKGqc7iHEMMUb3/jGcOjSl7/8ZXnllVcES4yh+OIXv1jurdixsJUMiKFmrTG7d9cR6BYBeh96PnsgbcDoeGm3wWt6SBqkhQEhbfIozd/VFN8DDWgE+oIOa81gbA3VjvIHIOYoMB5cY3E5sY9rjATDAxaOJDEmtRiPGrL3II5AREBlLZBOcsu998br3XcXnayK19abiHe1/Voc0iAtiLTJA7I8453/OgJ9FoHMDAiImXFIWlq7xuXfwuGaX3c9jxDBfxyBehF4/fWuGLvtFq+Zy2iULK6lRTrJPBpN1+M5AjlCIFMDAg4Yg6RBsOu0f6WwOcLRWemrCNgE+T33dJVAFzs0jZJpWR6WZ9My8YQcgWwQyNyAZFNsz9URUARsKIlvPewDQk4UrGcDxWpA2jAWadkpheRBXpDlHe/81xHokwi4AemT1eZMNxUBhpYefTQmydJbXV7eNCItW85LHj6M1TRoPaHsEXADkn0dOAdZIWC9AP3uSPRDv0D6nZEuvo/X1otohD+LS1qkCZEHeUGWd7zzX0egTyLgBqRPVpsz3VQE9IvzMtl55jYJXn7QwIWlYWmSRDKvBpL0KI5AnhBwA5Kn2nBe2ouATWbrnmxlquf883KkHi6SaVpelncPUf2xI5BnBNyA5Ll2nLfWIWBDSMkJ9C22EJk6NeZpQ1C94cDSIE3ShnwiPeLgv/0CATcg/aIavRANI8DmhnrWTCBWS7XiS3HStJVY5EWeTo5AP0DADUg/qEQvQgMIWA/kySdFzw2ICeywQ9yrijvrPTSQdDmKpcH+V6QNkRd5QsZDvPNfR6DPIeAGpM9VmTPcVAR0t98ysVqKuQmb/C4/6MUFaZGmrcQiqWSevUjaozoCWSPgBiTrGvD8s0HAegfPPNOVf/Kr8S7f5lwl07Y8jYfm5OCpOAJtR8ANSNsh9wwzR4ChI5Q3E+i33NLFjp1j3kzFbmlZ2uRGnuTNMx/G6sLfr/ocAm5A+lyVOcNNQ4AzQGw+4tBD49kdTUs8lRDngpAHRJ7k7eQI9HEEcmlAbBfeNLbV/NPh/N4RqAkBPQ1TrroqBmWpLZPdrSLSJg+IPMnbyRHo4wjkyoCYgWAnXrs2fLm3nXrTzyyMu45ATQjYsNFzz3UF32efuIWJDW91PendlQ1TsaUJeRhZ3saL+bvrCPQhBHJjQMxAcEb3El0nnzYW3C9atCgYlkoGpg9h7qzmBYGFC7s4sd5BKxS6pWl5kGsy7y4u/MoR6FMIaLMoezLjwcH2F154ocyePVsOO+wwOfjgg8vM/e53vwv+m2yyiRx33HF6YNyQsjEpB9ILDBCEa0YoeGT0Y2XD5R8yNyOWytkmDbHxZG45UEYXxpvxY25T2Cn1Cgr33VdOrqgnYwaijkzhl5+mLvR5oVJdVotn/ppHwZLSvIsq482cSAejluJmvDfgGl9Etbo0t4HkmhrFeDN+zG1qJg0khg7j+G9cOx+9gWRaGiVXBuTmm2/Wo6gnycknnxzOSt9Hu/wccbtixQrZcMMN5eijj5bvfe978owug9zMzmxIwEPFEx4abDuqJp5ncYlwQgiA8WR+WfCTzhO+EFIT0DzxBl7GFzw2lVDqdsCTbnZYsK1GapkHQbZK9VowOSvdV+TR0iQPNlbkeFvNO0hGd/EqJlbd0+rOZa06RtWetFTWqmXag7/pC3TaypUrewidzeNcGBArOj2QiRMnhtst9GVbqN18wOMc9P33318uvvhieVA3ozvttNMsyhouvZIbbrghgE1a06dPD/GtV7JG4Dbe8ELP04/HEALKkjU/VnQUDrzMnz8/tFxR0nlpfcELDQeGLble3aRVSyjtotbHIE134lNPBSW+csoUmafDpkWtn4LiEfuJhlKXG+IqLwWVrXWVN+gVnQwvDhtWWzxNf4LmNUTjFTXvV/V/9ejRUtCyVcszZFLHj8taHWCVgrZK1urnJMaAn6VLl8qsWbNkmMrWLbrse8aMGY0m19J4uTIgq3RtPOBBzIOgbCGUB8/e9773yfDhw+Wmm27SFZGHBmVnrS7CofwmT54sG2ywgSxbtkzGjh1bHurieVbES40ixBjCf94MCMI6atSogH2eDAi4YXThrVkGRIVEtBKk4/HHy6cQdug2IyMZwkL2eN4daRh6HQXlDYI3DIhWanexYo9Fw5CX/P3vIe+RL70kndqzVmEt92i6T6Tnpy5rPWOUDoHOaYmspTOq8R6dRmN4ff12CH2BTsvLe5kuQq4MCMNS1113XVD89D54Oe+//37ZeOON5eyzz5ZPfvKT8pS22vZMbguRKBFGZptttqk4vJUIlsklxmOMKikEI2+EcYO3vBFYYUDArunEh3wlGrTvvjK6nvLTsDEDQjwbxrIEu3M1L4jezEh4QB6aLBMuawHiun5aKmt1cdIVeHzpZMyXX345NKC7nuTnKhcGxHodO2jrbPHixfLQQw/Jxz72saBsX3vtNd2Hbgc56aSTgnFhXoR/yOIZnFhuhq4gWqzp5xau3a4NFcETgpqX1oTxRY+If/DKE2/gZb21pvFFD4Oehr6UYQ4CYdBh09Dv0PzCs+4EhDkLxao8ia7XgXrquRBOjU6hNERLnKLyEIhnpNsEsjp1WasdTDBriazVzkLFkMg+PSN0ms2HVAyYoWcuDEiy/HvvvbfwbzSjNPa31VZbCf89EcIA4dp1T3Fa+dwUX5KfPPBVrcx54i2JGfw2hTfkA4X9z392QaDbrQep4VlJfroeJq6SRqIULkpbKUx3ce1ZYrv4AjwcdVTPRivBQneXLmvdodP9s5bIWvdZ9vjU5N3cHiNkECBOOGSQcbUsrTVsL4O1QM3f7qvFd39HoCoCZgDoaTzySAy2334im24ar03JV02gFw8sbfIiTwge4AUy3uKd/zoCfQKB3BkQhlH4N6trw1Dmb/d9Al1nMp8I6JyPTqZF3pjEbsUcS7WSkxd5QvAAL06OQB9FIHcGpI/i6Gz3BQSslT9nTtc3IKyKKk2Idzt81dvyWQ+EvMgT4jsUeIGMt3jnv45An0DADUifqCZnsqkILFjQldwuu8R5D+ZFWk02WU6eRklezM9dR6CPIOAGpI9UlLPZBASsF6DfX5RJvxVqOyXzNF6Mt7Yz4xk6Ao0j4Aakcew8Zl9CgCEilDST1nYGOvzr1jltp2Se8AJP8ObDWG2vCs+wdwi4Aekdfh67ryHAMJJu1hnooINEdHPOQO3oAVge5EneELy0Y/gs5ua/jkBTEXAD0lQ4PbHcI6D7fpVPIeSY2dJ2OW3lmzztiFtOJ4QnJ0egDyLgBqQPVpqz3AACNjz09NMiDzwQE9hpp65tSKx30EDSNUexPNj6hLwheIEnyHiMd/7rCOQeATcgua8iZ7CpCCRXPe24Y0y6nUNIlpflDQdJnppaWE/MEWgtAm5AWouvp54XBKz1b6uelK/yIVJZ8OgrsbJA3fNsMgJuQJoMqCeXQwSSK7ASe2AV1lsvO2aTK7HgyVdiZVcXnnPDCLgBaRg6j9jnEGD4iHNAlFYfeKAsX3ddWY1xYXfedpH1hDbaSER5CARPNrTVLj48H0egCQi08c1pAreehCPQGwR0rqFTT3mD7tCVT8O1F3DHP/4R7tu+SSeHUOnBZ4HYzsTnQSIW/tunEHAD0qeqy5ltCAFb3cRqp5kzw2aG4dwYHTZazmmA7STrgbASyybS77vPV2K1sw48r6YhkOl5IGzZbtu2p/fjp0WIH8/Zgbe7sE1DwxPq3whYK193xC2Uhq3MbWvBGa4if1vKS+bGW1sZ8cwcgd4hkFkPBIOAgbBt2s1YWHHwt+c9hbU47joCFRGwVr+dADhyZNeW6hUjtMkzeYyu8Wa8tokFz8YR6A0CmRgQMwicd33NNdfIZZddJkuWLCn3OHh+6623ykUXXST33ntv8H9cJxovv/xyueKKK+TFF18sh00Xnrh5p77AY5YYNhUf5AGlzCqnO++MxWL11Z57xuuSwq47T9LtrazpJH6Z4K0FK7HqLleZoYFx0RfwyTOPmRkQxPO6664TzjyfMGGC/PGPfwwSS69jpo5T33zzzXLooYfKxRdfLC+88IJcffXVMnr0aJk2bVpwK4k3QNvZwXk5eIryQLjJ60r8Z+FnfBlvWfCQztN4Md54bn7psD3el/APyr40gc4JhIXddw9RbQirJnmxtBh+4pr/0lBYuO6RmVIAi8PphLYSC97MIFk+taZXCmcYNQW3OvOuJbjxZXzWEqfVYYwX4438zK/VefeUvskkOi2vRiSTORADhl7FiSeeKCN1SOHzn/98ODx+mK5O2XzzzeVzn/tcwBfwmA+5++67Zfjw4TpUvECmT59eEXvSff3112XFihWhR0N4/LIGf5AeIgRPTNwinG1f8VMRrfiiwAs9QXjLA1bGKrzAE7itWrVKG+fag2iUFP8ObagMefbZmMKoUbJiyJBwvULLDi3TyXTy7JE0TEH5GsI8htJKjVdkRVXpvsf4FoC81GAM0V5IyFV5W6k8dnJmei/K6rJmANfuNlXWas+2akjTEcgkunG+rhgcP3581fBZPsjEgFBgFMLSpUtDjwEFgeCb5Ufx8/yss86So48+Wk8A3VBOPfVU2XrrreW8884LvZE3v/nNwTBYHNIkDYa8RqmCAPwtt9xSTysdkbkBQUAXL14c+BiqG+llbdDAyghe4I2eYBJLe56VCy/WEHj11VcbN7paPhT8UF3pNPGuu4KyLupGhvNVPiAaJPPmzQsNjnoMyOSS4QG3hgyI5s1g6zraGBrOtfI2X3lcseuuwUBpZahv/eSyVj9mTZO1+rOuGAN+0I2PPfZYaDSj0w455JCKYbP2zMSAoLRQ9pN0HT69ENyJEyeWjQmt4u985zsyY8YM2WuvvYIFfuWVV3Tj1KHBmKBYKhEtaeLsu+++lR5n7reOti6HlFq+mTOTYACBXd92h034Z31JfaKgp0yZ0ntWSuee048ZtPfeMpmJdCVkjyFU/msmegj0OpTW43xzleWGaf/9Rc4+WzAX68KjvgfNIJe1+lBsqqzVl3XV0NN0uB5CZ8BfHikTA2JAYFXPOeecMHRwyimnyNy5c3We805ZTyc5mTAfq/sFXXvttcKzp3UN/xlnnBGUyQknnBCSQPEliXsDmh5MTS3KZAItuMZYwgdGEZ4Qhrz0QMALnow3jHoeeaNa4DFd3zVVl+KvFSCiq5yQliAxuvqpEyOgRLpQzfKCzGncAukqFUkHA1K6D561/JCvxisk9sQq2kosnqVku5YkXdZqQWntMMn3gKcNy9raSffKBz54J9FpNrfbqwRbEDkTA0KFIewMTZ155pmhwpj74CU+7LDDgsL9h34hzNAWYRnSOlHnShYtWhSGpyw+bprMD9eu02GyuE/ykze+wMN4MjcLjNJ5pjFriDdkBIWsc2hlYjzZlHXJM5lXOVz6ImkkSrK3hgRWkMd0EuV7C8ucR4kK8Pj2t3dNzNuDOt1kWRrCrM78ag1uvKTdWuO3MlwaM+OxlXn2lLbxYG5P4bN4HubvssgYUDAitMgxHlxjbbnHZbiKCSTmMCwsq7DsOs+gZoGn51kBAVP4GJBHHokBttlGZOONdfY74yEBMyCcTrjPPpE3eIRXyHiPd/7rCOQSgcwMCGiYMcB4pA0CfvafDGvXuE6OQE0I6DdG8txzMSjjymwjYoq6pgRaGIi5GOZRIHiEVydHoI8gkKkBASMMR9p4JP2Tz5LXfQRfZzNLBKwVzx5Yt98eOdlhh+jas6z4sx4I8zO6ujAQPPrphFnViOfbAAKZG5AGePYojkB9COgy3TKVPiBkIjxzoheEAdltty5Wkrx2+fqVI5BLBNyA5LJanKmmIqAfl5bJlslm3QMpM6QXiYl0/RI2+cSvHYFcI+AGJNfV48z1CgFa9xiKe+7pSsa+6LUhpK4n2V2NG9eVN7zCM7w7OQI5R8ClNOcV5Ow1iID1MBiqevDBmAjDV6x6gvJgQIwH9sSyoTV4teE1K0Pk2H8dgdwh4AYkd1XiDDUVAbYs0c04A7F8V5eC5450652wtBjG4LW0zUru+HSGHIEUAm5AUoD4bT9BwFrvrGoqHVurm6N1bTtirf8si2s86HdPgTd4gVdfiZVlrXjedSDgBqQOsDxoH0RAN2Is0x57xG9Ayh45uLCVWPBmlOTZ/Nx1BHKIgBuQHFaKs9REBJJHxSYPcGpiFk1JKslbkuemJO6JOAKtQcANSGtw9VSzRsBWYOlW2GVKbFxY9svLRZI3ePaVWHmpGeejGwTcgHQDjj/qowjY/AermR54IBZil12EkwhzRzYPAm/wCMGzr8SKWPhvrhFwA5Lr6nHmeoWAnhwozz8fk0BB6zbuoWXfq0RbFBnezMDBM7w7OQI5R8ANSM4ryNlrAAHrgbCa6eabYwJbbBE/zrNnDSTb0igMucEjBM++Eiti4b+5RiB3BiS5A28aue6epcP6vSMgeoplmfbcMy7hzcsuvMYYQ1gYNZbywqNRknfzc9cRyBkCuTIgGIjk7rzcQ+baM7vPGZbOTt4QWLiwi6PJk7uu83ZlvaIkj0ne88av8+MIlBDIjQEx48F555x/DmEwzJ/75/S8hMWLF5f98XNyBNZCwPaRauIKLHQ8zRmOe6IT01kcHv+5Vj+emR3Qy8YovRKLVKwsjaXosRyBliKgJ+tkT2YkFuj691/+8pf6gnbqzg4byzHHHBOMBUfdfve735UNNthA50Sfl+OPP1422mijNYyLlcLOuM7LucZWNlz+IXON5yxd4yXJX5b8WN7WeEjyZ896dBkW0hMHC/ffH4IWd9yxvAdWp9YBraZ0utXkJVZZoazHwxG2wzWBQddGNriGwoNoXDAntrgqPqzxl326dtpJCvfdJ6K8Fzk1UU/oVGZrSoAy9Qq3mnJpPFASc7tuPLXmxcwrZshkhzYgcDmlNY+UKwNy6623ymabbSZHHHGEfPazn5XDDz88HGtLr2QfPfZzxowZctlll8mdd95Z0YAglJyfDuXlEHqEE0IAjCfzCw8y/oEvhDSPAgpexhc81kUo39IphIXp00UmTAjRB6OQlawu0m54mPgxQ8Cq2vmvF2TO0yILX+uQ1a9eHEINurZDxuix5lM3Kci48XEqo2xNEul0e2mZsK07E+kYEOW9YAbEnnebSOyxE8RlrQegKjzulaxVSK8ZXiab6LRVq1Y1I8mmp5ELA2KlwtKOLXXjt9AXaaGOA3MuOgBiPJ599lm56qqr5MwzzwxR0oqY89Rvu+22cK760qVLQy+GuNVal5ZvK12MGi/0a6+9piszl4ez3rPkJ11WeJk/f35okdetpNOJNekezOCFhgNDlhC90HR9V8xOy1McNkyGPvywrKP7SmG+l6piXvjyy7JcX8JX1J2ue2K99NJLITruokWLZNasWbKufg0+dCjyskpGjCjI0qVFDTdcn42TK67okLvuso19eW3eG7N/Y3S23z5uqPuWt3TK9OnzZcqUZSEN9kVUlso9mBg69avlpctS1DKOVx5G6OOi8v7a3XfLCj3DvcCS3hoMqMtaCtcabnslazWkX28Q42eZCs4zzzyjMjRCD9O8PTSg602rHeFzZUBWMuxQam3N05PZAA/Cj6Gr888/X8466yw9f2edYBTSCg8lg+HZbrvt9GjpJSF+Okw7QE3mgUDQksB4jNNzHzBo+OWFMCDgPkFb6FljlcSEOuclgqhvWmAmG8lwa11jQFRuOhTv0qiSDDv0UFmtB0md+fGPy//87Ge6QvZpWX/99UNU3Ndfnye77rqrfPSjp8qPfvRtrZ+h2svtlHPPFbnoIoYOLKWu3KaWLueUXHZh5/8XvyDsaB1mHSEf+Ugh7NI+dGjcYBfRLol3KVbCgW+VjSFveIOQMamM0TJ0Kt8FbQzVakBc1hKY1njZsKzVmH4jwXgvx+i3QTSgX9AdmtFteaRcGBBTDCh+hqhQHMO0FYkBueOOO3Sj0i3l4IMPlk984hMyc+ZMmTp1asUhLEBHEaKk+c8TDVUtAk+4eSN6bmas88YbPUmUonXna+avZHww1R1TpshoLePOO+8cov9MjciOzIso0au9/PIrwvVBB+2sI0ej5bzzRL75zeCldda1u/rRR4vstRcb53bKV7/C1LnIJd/okMce61A5Fbn0UnwKGmeIGh7+Rb70JZEPflBk2jSedUOlXohatnKgoaUyaOWU/Wq5cFmrBaW1wzQsa2sn1RQfeyfRaei2PFJuDAitcnoPhx12mDzxxBPygQ98oKw0aCHz0gPiyzoEsal9sZtCFENkY4WEzUOLmnLBF671PMwvxX4mt+AEP3nBCxAMH1z+k37hptoPYRVrjSTyr3+FULTki9qSw/3Ahz4kjz/1lHzrW9+SDTfcUFt4I+W97/20tu6ek09/+gsqOx8oKfqiDqUWhD0N999fRKOFY8uZ4472vyg//H4ckz766DinoqNt4ds/ssUAXXONaBrREGGMLr5Y5NhjY3x0wVojUsZ7ciUWib3lLV1lomzdUMO4dZNmMx/1K1lrJjBV0rJ3Ep1WdwOqSprN9s6FAaFQpmR32GEH4d9oL5p8SpOTa+T13l6W8DDxY72ZhFfuLvsCj1mC1mt86O4nTiEsaPOf9luHzkWdfvrp+qH3zXrsxj90nmIXnWe7R7been959NHT5XvfK+hKv04dLu2QrbYS+frXRQ48UITznpK0XEfWbE6T62HaS8GwMP/N/5FHitx0k8hXvyo6FCYhrfe9T+S662KauoBQDXa0C2WbYBdTp8bJFJtwoSzaA2uUeo1loxn3kXh9AZ8881jn0pbWSgVAYXWtpUJudm3+dp9nUFuLkqfeIwI6/6UzkDEY3QY9hRBB71RlzHwKc2nQSy/dI5MmifZ4z9dJcl0BpWYG48Hch67VkDe/ORoPlD3/pc6QFDQx9H34L71BPLNwGBzikgZpPfqo6AS9aL7x4EGdGy/3QCzNwBA/nJhox+5SBsri5AjkFIFcGRAwYtiJfzMQdm3+dp9TPJ2tLBEwbazDVLp0JXKy7bZlbU0PhAbIdF3We//998q//duVMnfuvTpsNT3477JLh9xzj8iHPywyXpfkmtFguGmtIacK5bRwZkxIg7RIU0fMAuHutpvIlVd2GaHAtvVASASeIcpAWSArW7zzX0cgFwjkzoDkAhVnom8joCv4yrT77lH7qzVAB9MAUW2sS3N3kt///nAdXtpJewhFXaDREXoMzLMTLoaNSr6cVo0X2AKysXRIkzkRXQMSPk1hhJapjV/9KiZIeMIGi0VEeDZKlsX83HUEcoJA44OrOSmAs+EIrIVAciNCHbKCUNAMPUHnnVeQk08u6mqqohqPgvzwhwX593+PUw30OoKNiUF79WudCtJkCOu//kvCJP0nPxl7IcyLsEKXSfpgRDSc2hLWLXflmyxLl69fOQK5QKD0SuWCF2fCEegdAmh+tPU//9mVjipjGvdmPJiHOPlkFHghLL+94IJC6BkwT91M49HFQLkDFObC6YVccEFcJEZHA15KUzKBR3hdw4BQllYxlmTSrx2BBhBwA9IAaB4lhwiEMSDli1VLjzwSGdx/Pylusmm81ib+r38dv8lgDoIVstyfeGJ8TPRm9Txiimv+kraxSJ7kzUIreOE7Ee5DN0SdwLPyHoiyUCbIEoh3/usIZI6AD2FlXgXOQFMR0G1ZZPbsmOSGGwtfAjIsdMVfdfOR90aFjfFg/uHd747B0Ms23NRUXlKJhWGqUl7kTb7GE+74cTo3coT68/UivEOUhTIxBubkCOQMAe+B5KxCnJ0GEbDW+Zw5Ig89FBLp3HFXKQwZHBYzHXFkQb8+jz0PhpDe856YT7uMh5XKjAj38GDDWfAGjyy8gmd4D0RZKBNkZYx3/usIZI6A90AyrwJnoKkIlA5i0pkQ6ThwB3nsWdGN6Dpli8072CFd97pac9iqHT2PdPnMiOAynAXLuk2X8hh5ffSZDtlSeQ9lILIfLpWG0O9zgoD3QHJSEc5GLxEwS6CtdVO8Lz89Ro75bEx39uMiX/yihNVW+LS755EunRkR/FkBBm/wCMEzvPNyUpZyD8TKiJ+TI5ADBNyA5KASnIVeImDWQPcXKd56W1C8K3bYWL5y9pby0G9IuyDvfKfI5z/ftSIqD7oYHmyBFbzBI7zCM7xTBl5QyhT2TklaHYI6OQIZI+AGJOMK8OybhwDnaciTL4QE/2/meXLu45Nkii7iHaMbI/7wh7o9+pguhd28XHuXkq08hrfAo/IKz/BOGQJpmULZepeVx3YEmo6AG5CmQ+oJZoVA8bkXpXDt5XLVsP+RU0e/SXbU7/Fe0hb9P26OW4lYaz8r/qrla0aEbU7gFZ7hnTJQFspE2Zwcgbwh4AYkbzXi/NSPgA5hhXmP55+Q2bKPHLbBh2Ub3STx/meKer6MhNVXeTUeVlgzIqzGgmd4pwyUhTJ1aNnCfIivxDLI3M0BAm5AclAJzkLvENDPKcJcwaKFi+VTcr5+yT1EHp7dKd/+dkGOOiqmnYc5j55KaTzCM7xTBspCmSgbLytldXIE8oJApgaEMz1sm3Y7OCgJDH7m31PYZDy/HkAIBOuhYty5Us79285yuWytH3sU5bDDO3Kz4qrW2kjOkbMyizJQFspE2Shj3KWx1hQ9nCPQWgQyMyAYBLZst23auU4aC3tu/tXCthYeTz3vCHSqAeFL82tvGCKn/2gj2Va/pRBZKef8cHl50txa9nkvC/zBK8NtTKpTBspCmSgbZaSslNnJEcgDApkYEDMOHFV7je5zzTnoS/TgnKSx4Pp2/SyXM6u5fvzxx/Xs6sv14J8r5MUXdbJU/czgJIE0P1y7Tj7P6jrJS/I6D/wkecgbb93xY/ManLv0xkNEpo8oykz9luLyYy6X6VusivMihWZq2660VLxUvtZALnnTq+sO5Zn5DspAWSgTZaOMlNXmS6plksQseV0tfKv9q/FQzb/V/CTTT/KQvE6GyeIaXowfc7Pgo6c8MzMgMHadnvH52muvCYfG//GPfyzzCmAYi3322Udef/314H/ppZdqq2yMboc9TQ9t01PbKhDxhgwZEp4M0sODMDJZk/GQPAjL/LLkzXiwHmA8J4MWcH4wg5fu+EKRahtEzjoLJDtl1tSCfE3+IUfseYfIoFFhzkAL1DSYDZtYl7G30B1/DWdMuYmsZaAslImyUUbKSpkpe5rW5C+W2/zSYdt5bzyAlf2Tv/m3k5d0XsYDbkvqMp1hjffwgw6D0Gl5NSKDayxPU4NZRdGrOPHEE2XkyJH6kdfnZfny5TJs2LDgci46PRPmSCB6I5yLPl83luNEuUoE4M8//7zM00N46NGMGzcuHEafNfjwRdmW6uEP8GJlqlSGdvohpPACb+BFvWSNlZUfXpYtWxZ4W7FihW5Iq994JEhhlBEjCvKHPwyT//1fkUnTO2T95a/KqXKAFLe+RJZogA4O29AyNpM6OgrK02rlJ77c4DZsGCcdrtEd6X2WyMmIETJy671DmS5Z/oq8MH2ilrUoBx3ERpDIE8PAa2blsrYmHrXc9SRrtaTRzDC8l6v0o1h0HbrxhRdekA022KCZWTQtrUwMCNyjEFCog/UgBsBC8AEOwuJuuummuifeQ2XF8ZWvfEW23nprPQzoPLn66qv1zOk3B2VncYiHIMyZM0fPeXgsKJ+pU6eqkhmRucKmbJQV/lDWeTMg8Iawwl+eDAiGw3gzA4KIrF5d0Hotyh13DNLdbIfK9lM75MGn9ZjYyefIRJWDeYOHyzLKo+UqlmQK+WgGdRmQCSE5cGuFASlgQLT8K7QslOn8lefI7s99Tcta0DJ3yvrrL5Sdd+YdoqXKcEcsncta/bWM3FeStfpTak4M+EHu0WXDdWdm3I022qg5iTc5lUwMCEoKQZ80aVKY28CdOHFiMBxUJEYFwrCY+9JLL+l6/h31bOkNQ2WHB6kf5lT2228/2WuvvVJPsr+lzOvo4UZWtuw5WpOD9ddff02PHNxR/wxxIh9pUjusjQl8i/KgfmN37vK/y27PfV3vNpMJu+jHFBxIzn8LiM7Q0KHLQsq0DFWUW0daFspE2c7t3Ec+8uJhmldByz4pHESlo79rkcvaWpD06NGdrPUYuUUBaERD1Ce6LY+UiQExIA455BA555xzQsv3lFNOkVf0+M5rr71W3vWud4UgdN+GDh0alO6sWbPk5ptvDsrkhBNOCM+TvQ88uGfYA7JeTbjJ8IfKp0VBCxqeMCD45YHAC77oEeFi1PPEG3hZzwMe4RfoFE75xS9KhzCNKcjROy6V45ecLXKPovqWbaS4bsngtABneIAvSzrKWYvqVPMSyqJlkiuekIiFZW8AADdiSURBVON3OVv+NvJAufT+EXoAVVEOPFDkIx+Jq7YI6rLW2FtldZqWtcZSa14s+EFfoNNsbrd5qTcnpUwMSFQExdCbOPPMM4MCY+4DwN7xjneUh7Le8IY3lK8xMIsWLZJRo0aVFElcBpyGAWUN4ZJPXghejB9z88Cb8ZJ288Jbkq9ikYlOkXvvFfnoR0W2Xb9TZg4pyDdPekJG/M/1YeVSx7aqbEs92FCGJsqAGQ14smSNP3oF5tcU7CwzyqJl6tQTsUYUrw9lvfQb28m2o4uKQYf2tkWHsrqMCHlH/qLsd/HXFK56lYjxknZ7lWiTIqcxMx6blHxDySR1WUMJtCFS1LZtyCidBRVEiwnLivHgmhZw0tJyD4g845/VVxYvDxWcLpPftw4Brf5gPDga47TTRGVGZOYLIhf/WGSb7V+RTjUqQZj33TcGZPFFUzV668pWMWV4pwxYTC0TZaOMlJUyU3YwAAswIRgYOTkC7UQgvHPtzDCZlxkDjIMZBK7TxDMLyzMLmw7n9/0fgYsvFrn+etHFCHoc7HG6TftbtMxPPK3t/xL1x6NfS2UKZdSyUmbKDgZgASZOjkAWCGRqQCiwGQcrfHfGobtnFt/d/omADV3pSKauxqOMRfnqWQUZ1qFzOFfe2GVAbLljX+59WBVaGUplwoBQVspM2cEALMCEYT0wcnIE2omAi1w70fa86kaAURxowQKRz3yGJd4ijzwi8pvf6NfZm6tCXbRcOp6eHQO96U2i6x3jdX/6pUyUTYmyUmbKDgZgASZgA0aQYRbv/NcRaB0CbkBah62n3AQErBH+q1+JbnsTv8JmEd4xR8ehzsJTc0RuvDHmRHM8OYHehPxzkQRlit2uUNZQZmUMDMCCFZ5gA0aQYRbv/NcRaB0CbkBah62n3EsEaEnrd6Ayc2Ycptlqq5jgGWfodxg6gUznpPDK3K5cDjhAt//QjzKI2B+0KGWgLJSJspWIMlN2MAALCGwYygIrMPNeSMTFf1uLgBuQ1uLrqfcCgcGDi/Lyy0X55jdjIo8+Gr/92GILFGRpv6g5c7pymDKl67q/XSXLpmXmxQUDsPj1r0XABgIrMAM7J0eg1Qi4AWk1wp5+wwgMGdKh4/xDg4Ikkfe+V4dtjuFKV+3pnlT64VDX8BXeNv/RH3oflAeysljZ8GPITsseMFAswARsIIwJmIGdkyPQagRcylqNsKdfNwI2/PLww0Pla19bRzfPJImCfPnL8duHTrUbaj5Ed4Dsanq/+c3x4HP8+yNxYDplhOhuaNnBACz4HgRsQAWswAzsIMMy3PiPI9BkBNyANBlQT653CNgHg+xI89WvklZBdBcbueiiOM6PQuS8jEBPPCFy663xepdd+ucEeixdLBtlhCgzZVcKZ4coJsyBgBFYgRnYgaF/YAgeTq1CwA1Iq5D1dBtCwL4j/X//T3Sr9pjEO98pusVNvLYRnXCnGy2WSc+OCdoSC7NGoHKIvnlBWYLV1FeVMholym7FBSOwgsAODCHDNN75ryPQPATcgDQPS0+plwiYntTd+OX447tWrn7ta10ri4KyNI358MNdOfbHL9C7ShevkmW0sisWwAF2rL4CK4hVv2AIlvRCeO7kCDQbATcgzUbU02sIARu60t385Vvfikk88khRzj13tWy3XWxFhy+tCYjG1B1x1/j+Y7PNYiQzLg1xkdNIVibKmPgeJGDAM8XEhqrACszADgJLMLXnOS2hs9VHEXAD0kcrrr+xbcMsegil/PKXcUHV5puv0A+wXw1FXWuPND11Uh54IMKw/faih630N0jWLg9lpKwQZQeDBBlGYAZ2LNwCSzCFDON457+OQO8RcAPSeww9hV4iYENXesKxngUj4duGZ5+Nk8Ljxq0OqVsjvKwFmUS2YRzOeOVrbagcMN72i18rE2WkrBBlL02kGyYWDMyYUAdDvhMBU7D1oawInf82D4HcGRBaUdWOfOWZtbKaB4GnlCUCtIpRbGzHcfbZkZPZs0V+9jORPfdkJZEO0VQiPaGyTNtuGy/780C/lc3KSomTGJTBiJiBHRiCJQS2YOxDWREP/20OArkyIBgHdty1g1SSxsKe8Tzp3xwYPJWsEMCAQH/6k8j//Z/ImDFx1w4+jOOZPY+h9Nea0TfdVPaS9dbruu7vV8mygoF13xLlNtzAkB1QwBRswRhaC9Po7b+OQN0I5MaAmIGYP3++3H///aEXYsbCnnG049y5c4ORcSNSd13nLoLpPkZijj02fsvA4Ug/+IHo4WFdLeYy46b5+MDhX/+K3npqpUybFq9tDKccoR9dWNkoK2WGwAAsIMNGL61HB4ZgCaZ8JwLGYG02OMTzH0egFwjkwoCYgXj55ZflggsukHvuuUcuvPDCcrEwJBiWT3ziE/rORMXR1wwI/BrP5pYLmMFFNR6q+TebRfIxRfftb8fUH320KD/6kchuu8VuSUE/GFyDH1OSTz4pcsMNMdKuu8ZPsZvNYMX0St0lfQYrxk4M2vWsYtRmefLZOWWGwAAsoAQzYAZ2EFiCKdhCYN01lNUenteow8BF/KnmnwjS8kvjAdeuW55pP8ogNwYETO+8805dsrmdblF9go7dzg5noGM8oEd1+4axY8fK0KFDw31PPxavp3Ctfm584NrQnPm1Ou/u0jcecO2f8ObfXdxmPLN8Lr1U5LzzRCZMEHnjGwty4omkHuscvCxccEuyIC+80MXCjBmxSR2ixXhdD5t7leQFVuJ/zNOeNTfHRGpWdqwuZTYyLPS58YBrsgaWYAq2YAzWYA5Z+HjXul/LB9f+25l/dyUz3taSte4itemZ8dam7BrKprR0paG4TY8EYMOHDw/pbrrpprJ48eJwDvoqXfO/p84KrtSm07zU0sUkE5ynfskll+jc4ku69n2F7LXXXjJq1Kiqk/LJuK28Rjhff/11PYJ0uW5yNyQ3LR3wZsHCAj2JCBc+29EKKxb1JMFhnboyaISuEJoY9m9iC45PfGKu1ttyeeaZgi6qKuj1St3yaUngCf5Q1Z3K80TdTFC/mQv0it4ve/VV6Vi6VIp63Wrq0E0cly9frf/rhqyee+45Lcsgxa/1rfmCtpI79WvB4VrOmLvIUsXiVZ1Y76AFrRwlZW3o0CH6qUhRRo4sKrbD5K1vnRSwZlXWJpuw1HeplgMj3QbelecsZK0WeeA9QLckZa2WeK0KQx2i++64447QYL799tv1PdFKyyHlyoBgKBAy6AVtWaH8IQCFlqqSsOvgkfoh/qGHHqqtrTcGYRim3X3CoxSzsubkPViXX67W3VPHjx8fDGRQhm1Qdil41rg1TOCF/0mTJrUFK4UjHG+xZElRvvvdQYEnjMc554gcccR4fZGLYdKXemPOa5CehTFFtzJfpS94Qa+L6jdYX6xAu+0m47WR0Km4FpgpbjGmYGYGhFMAIXAzA9JyGdP8i4pBh5ZZx6bCHMgwxWLy5z4nBW14FVXGBitjaVmDzyOOKASM/+M/uBPFfrx+IzJGP58phE2NWwldVrIWS9r9b6zTlKypHml5XVZhy7BaR7/5mTx5shr/kfo+jNGGwKoqMbL1zoUBscraVcd2f6XHqr3yyiv6EdRGujXDCB3mvUG3ANpHX9JhQdHRUqhGKMLROnOIwma4K08ETwy/4eaJEFjjzeqhHfxdfnkcSkER77efyPvfj/4fohh15W54YUzC0CVajqWrV18dA+nmgoP5uI4GhirWdlGxqEq8Qz/vVoo8xgZOu/IPH02ysaLOB3YoFkPBZPPNIwaKkdVnWtbA+I9/FLnlFrAfpJPqg+Td724fdFnJWi31spas1RKpxWHQeRA6Dd2WR2qz5FeGAMWFcGE0/u3f/i201N+v0o7iGDduXGiFEhMDw7AUVEnZ4UfrC8oL4JTLyK7NNf8sXXix/1bzYe8A38C95z0i22wTJ3R/+ENRg9+1X5PhYy58FS3yU091sak9zWA87FnXk5ZcWVVGvGwiPdavPWtJxslEKSsGk7IblTApY6T+hp25RANjsKYNBvbUgX2L2Q4II275mqw2fMwF0uS1QZyFazoMnVZJ32XBUzrPXBgQmDIjMk2XKR5yyCGhFYXfLrQytdVOpa6rm8mtp+vgua4GaDX/dMGzvO8LPDYbHxQsem/RIpHTT4+po7yY1N1pp6iMeQ5VxMce6gq9Muk8WVakoql8ZpW75pssu2FiGCXYMix5RB2ANZib4aAuqBN7nog6IC4NnzwXNs885saAUIEAhXHA8lorwKywPevOeORZCJy3iAB7M11xRbxm+3FawTUR2loXIcg118Tg7BrIPh1Qppo8stC2XysrZQcDCEzAxp5F36q/YG7b41MX1ImTI9AIArkyIBQAQ8HQlVldro3wM3/zczf/CDA8gm7TxSRy6qkithsHO8WyBbk977EkDNX87W8x2N57x7W/PUbqpwFYkwsGEJgkh/ai71q/1AFYg7nteExdUCfUjT1fK6J7OAJVEOjSzlUCuLcj0BsEUFi0AfQb0dDq3XhjkZkzRX7/e5Ett4wKLdFG6D6rZ57pev6mN8XZX8Zl0HwDhSgrZWbRABgYJbExvwouWFMnYE8dUBfUCT0S6sieV4jqXo7AWgi4AVkLEvdoFgLoORQS7ve/L/L886LfeIh86lMixxwTc+lR9xPZyJbvcm/DV8nnFq6/u1Zmw4DyJrGx51VwMMypA+qCOqFuqCOiWp1Vie7ejkAZATcgZSj8otkImB5j6Si7wU6dGncd+cxnYgO65qErGNMPq+SqqyKLbDVrytO0YXwyMH6tzGAAFhDYgFENRHSwpxNDXbBalLqhjqgryOou3vmvI1AZATcglXFx314iYENXDJGwid8OO4jMmRPne9dfv46hK9NkHGihX10H0o9Fw9eG3JgyjU8Gxq+VmY8nwQICGzCCDLN4V/HXhqqoC+bgqRvqiLqizux5xcju6QiUEHAD4qLQdATMeLDrzIc/HHU8B+jxtfn++3cNk9SVMYd7G5GINaPNb6C51n0DC6MkRubXjWtDVSRB3VBHwEqdUXduRLoBzx8FBNyAuCA0FQEavyge6L//O371jB9b+Xzwg9G/5l8i2hfmtvaXyHx17RQRSGJhGIFZDb2QJITUDXVENL5Up+4gMzLxzn8dgTURcAOyJh5+10sETG/94Q8iX/96XO1Dkoyv17Vk1/hg6xeWB+k2/4He/vY4YM+NDeXEJwPr18o+daoImEBgBFZ1bJdjHTnqhjqCWKFF3VGHkNVpvPNfR6ALATcgXVj4VS8RsKGre+8V3ZImfvXMqMp118UPp+15zdmguVCGupV/md76VtEtjaNWMyVafjiALig7+IAFmBiBFZjVofVtqIqP26kr6owv1qlD6tKeWxbuOgKGgBsQQ8LdXiFgxoHloAcfLOGU2fvuE/npT+MBeugzG9qqOSMicOLebbd1Rdlxx3hdh4LsitzPrgwDw4TigRWY1Qk2wUmOww6pM+qO03OpS+qU59SxkyOQREDFwskR6B0CZhx0t335/OfjBOyLL4p89KMNzHskWWEsX8/6KG9fwpfXnM0KDeTeR0SgCwMwsa/SWVIFZjZ3ZGHrcJkPoe6oQybTqVPq1oxMHUl50H6OgBuQfl7BrS4exsN0+f/8j8hFF4nuoBynKb72tTjCQsvVwtTFjw7FFDnC2LZvP/rogb18Nw2egcpyXrCBFKuAWR3zIDFirCPqilEx6o7pFeqSOqVuIbK0jk/08d+BjIAbkIFc+00s+29+I/LZz4psv73o+fUinPeh50CFYY86R1PKXHHK3jDGUoz23Tde+ViKIdI1rmTY6BMwA7tGyIaqqDvqkLqkTqlb6tjJEUgi4AYkiYZf14WA9SxuuinuqrvDDkV58MGi/PWvRd0oll2V6x6Kj/mXlN/ghQtl3M03B78CwzQcYgFZyzveDexfw0KxCRgpGmAGdoEaMCRmRNjs98orReuUs3hiHVMdZOk2fGCLnZU+UwPC1uy2bbu5xpjdp1177m62CJhx4Kvlgw4SmTatqB+iFeTXvy7IW96iGkbYObmxVrCNkRQeekgG/fOfsaDvfa/IxInx2pRmthDkI3fDAmzASAnMwC5QAwaEeCRL1MMPF/m//xO5+26RrbcWOfBA/1I9Auu/IJCZAcEwJLdn59qMBYzZtu1pl2dO2SJgxoMdxOORFJ26UqcgU6c+oYxdpLu8/laHPhaEOkzWac1co70g27qEa5YDQd70jTgkfw0Tw4hnhp1hmQxfw3UyGpPq3/iGyCOPcAZ8rHPq3noqNSTnQfopArpgvP1kxmOpLu34y1/+InPnztWzmd+tRz2vE4wIRuM2XY54k46NHHbYYbLzzjvLXXfdpWcW3B7ORj9cm0Ub6x7Ulk6yBKawcO06+Tyr6yQ/eeErabSNJ3Mr4YRSicajEI4mjzvq6jiVtkMOP3yhrFhxmh4Q9acQ9fvf/57u9HpaY0ZEMyq88kpcT6qpFRmEt0NEYKLBVnWlMtXvh3FDtiymXST97FmbXDCBwEixKjDm9LOfiXzoQ1LUUzwTzMZwNf521bfIpz8dt9qKh08Vwpw9w1txnqvY4wqtemWtRhabEsx4S8p+8ropmTSQiPFgbgNJtDxKJj0QA+Tvf/+7tmgm6drzN8jvfve7UFgqc9asWcFgnHzyycF/vs7k3aL7K2BM3qX7LWywwQblsEmESNcOoh+kyxhJKw//8MjBWPAE5YEneIDgqVbeGJbq6CiEpZ0s87z7bpRnhw5ZiYwa9SMdL/+TbLjh9rop3/Zy2mmflssuuyzkUXd5icUXbE8/HeNrZgU9QAmO606ryTIAQ4M6kC14idf4Zc1XwAaMqBiILoJiGPwbxMDqG3fkyIJu927DkyKcoktWcc+skEu3GMBSPbLWTjyTvHHdzry7y8v0BTrNdCb85Yky6YGgsADk2WefDUZhhO6jcOGFF+pa86W63cUImT17tm6nsGXokeyt69sf1gOcCfsH3VuBXsrxxx+vCmtUSIMKMOLs9HtUskePHq0nfC6XqVOnytChQzMHH0FYsmRJONsdYbBjeo3vrFywgxd4w0hbvVTih56Hsi4LFw6RL3xhhBqHGIqN+Lbc8rfywx+eoR6bahrzVKnEOjlal5b+S5fh7qgfui3Sg7dJv0dSngoqG6MuvVRNE2193aVc43euWBE/RtDnWRIGdPny1bJq1fDAxuuK27BhgxRH64lkxB1dIn13OhSrUcoCKHUqhot1u/cimPG8F0T962sVtju54ooRuhnykCAD+jrKt7+9VO9XhlN1q1VxPbLWCzYbiopcoi94DxbrlvirV69uKJ1mRQKrFSrvc+bMCQ1idNouu+zSrOSbmk4mBoQSoLgAicrjGuVvxoB7u+Y5zz6lJ9/Q8/i9HqN2jX4sddRRR61lQIiDIpynzSIEYor2rzFUWVpv8saArFzJC7Y8c37S0gN/q1atCrwZ5ukwKA+Mx/PPF+X00weXjEen7LVXhxxxxNVqUN4t06btpt8KfF0++cnT9IiKPeTII48Mw5K77babnnV0R2gQLNMvpKvlEfLUjIrDh8sgHYIZ/ZOfRDZ0n6dlumFgccGCXivBdLkauS+oVVuxvFNlVgFRCnWqpq7ISF7WpDJWUKxGsTeWWviCYrhCD0BfzbBWA1+np4tDb2OTTYr6lXqHbnUyRL8XKcr55xfktdeK8l//tUzXOBTKHxym43Jfi6xVitdqP2QSXcQ7ioxiQLqV0xYzRN7wgR6jwYlOy5Kf7oqbiQHBQKBU19fDCB5UZcEw1nq6b8IQ/YKJyttUN+VhvoNKfUhXkzAHcrOuH2T4irj0KioRAsBw2F577VXpcaZ+lIveE8YwbwRvkydP7pYt7UAIOp2eBwt+Xn21IL/6lehLN1ENiGgP8oehpzFr1mOy++67yXHHHSev6DzGrzQQ81Xjx4/vNv01HmqPE6LN3Kkri9YtDVkGzxz8KFwqg8sCJzRSVJRzRasVsw4MiHI1ESz32y9+EdgkLtk5hQn1rbcuhEn1yy4bKZttNjJswNhTNdcia01is65kaETxbk60lX51xW5N4I022igkjL5Dt+WRMtFmZk3fpGc6/1Q33qFlcsopp2hL5rUwcf4OPaD5Ud0U7tM6c8dwFQoIS3zaaafpevRddUHOwQFLS8eA5Z5hMAiBsDFEe56FS9noRfHimJDilwcCL/jCKOOCV5I39Q7KkZ0xPv5x0SW6cRXO3LkFNewF3VWdcuwaFkGsq5O1L7MTrBKtctL8kE7iUn/j9HNm7tP1FQLbD5goTmp1RL74RSlo42LlCy/IAv2+QaeBpVP5K/A8YwqYqWxZFa4OcqZfzJtHhvwVFeMOrcN5itlY5WOoYlhULMNuvUymU6Fa570lktlqK2QgrsiaNKkYjsNl65Mf/Sg2MLS6QnVaXj3JmoXLwoU33k3eAahHWW0Tk/CDUUOn0bjOI2VmQHjhsPZfRMCVbCjr7aWtqTEib3vb28rA4f/mN785GBLCE7+SQiIdCLfS8/Awgx94MX7MzYCNtbI0XtIuSoKWNUqBA4Z0sVxobeqCufBhGQt+OjspU1EwHpApUetJDtfhKP7xt3pZiwHzMAV8662iFin4FvXz55WsG1XCeBiPwSODH2NRGeEvUtdFl18GvIUsS7IPZmAn3/1u6IUImOq7FKjMb+NMIhfIBzLAgq/tt489ERoYfL/4v/8bN2IkTImlUtYRNKtHcxvnpHkx4cX4SV43L4f6U7J3xtz6U2h9jMyadFSSKRYAsmtrBXOPIsK1f1uNwL1VdushGlg5oCTtxX/ySZFDDonGAxTQ63w4yLcfFoZ6oMWWJOrHqKa6IjyaRicx5bzzLGrYT7yQ05ZXF5P5uwqYsRe7EZiCLRgn6sYeN+KSFNWOLCATJZsfGhrIDLJjYZqUZSNsepwWI5CZAaFcSSOQvubelA/X6fsW4zIgk+dFV6jDi88yzc02i8oBMBga1sVxYTcRMx4GUrLuzK8u1zSMTrYHDUTk00+PTVwdDnOqEwEwo3sAhhDdR7CFDOt416tfMxDsMINs2PQBBgXZQYYIg0w1Mdte8eyRm4tApgakp6KkFVP6vqf4/rx2BDAKvOgQ+oa9jzbZJN7rVFU4H4LTU9PGI4boxS+aBS3DKiEOojDSD0vLRxian7u1IUAlccQgGBqBra3EaqI2NyOCbLDvJbICITvIELIEIVuw5dS/EMi1AelfUOe3NMxlsDgM/cJZ2AyXs9KG7/g++UmR3/5W9APBFhgPIDFl9o9/dJ2hyt4ZuvJOl+F1WbX8wpc/ztDWYAeGYAlxPi0YQ4Z5vOv1rxkRZARZQWaQHWQIWUKmkC1kDFlz6j8IuAHpP3VZd0lMj4wc2RnGrPXD//Dy77CDyP33xxdf52FFP3Bufs8DbmEA7cPM67e+FVvN+MMI/qyKsW4R/k61IQBmtgwKLCF6JGAM1mBrlR+f9vrXjAiygsxgNJAhZAmDAhvMiyBrUJOz7zX/nkBjCLgBaQy3Ph2Ll9eGrNA1V101WsesC3LxxfEwoQceEPnTn+LSXeawmz5sZeiZFuHgieuvj1+as154jz1iCDcehlT9rmEHlmDK8nYwBmvIsI93Tfk1I4LMkCUyhCxxj2whY8garPGPXLWAjaaUxROpDQE3ILXh1G9CmeHgZeezjW98o0M3QBwf1vVTSFqMLM20VZ+84IRtOplV0u0alIE460ombLBkGZoSbHrmAyBBww4sbX8sZrbBGszxpw6aTCRrRgEZQpaQKYhvR5A1ZA7ZI6wZkhjCf/saAlqFTgMBAWvt8dIyunHVVXGM+mtfE5k6VfTDTZEzz4ynx9oyXRSB6aGmYmRWCaZ+8IOY9BNPiJxzTlzmZRqoqZkO0MTAkmVSYAvGEJibAW8B1sgMyZIFssSJxMgWMoasIXPMjyCDNtJm4WHPqe8g4Aak79RVQ5wmDQcvNltQ/Md/iG5iyXYcMck5czr1ZS7KGWeIbrfSpVtaYjzI0pTWJZfET5d1G5ugUUoHIjVUUI/UPQJgi9YGaz4XB3vI6iLeNe0X2aGxgvwhU8gWMoasQcgeMogsIpMW3g1J06qgLQm5AWkLzO3PJG04nnlG5Hvfi41RVnSysyp+X/pSUbdlnyuHHhpfbOLx4reMrMnJ2Maxx8YDt/ncnfMrbLa+ZZarZaXKb8JgSaWCLRiDNeergD11YF3SFpXAjAjJI2PIGjKH7CGDyCIdJGQTPzckLaqIFiXbSlXRIpY92WoIJFtvvLi8jLoLfnhJWZfPd2UstYR0k9ywqvPMM4vqt0r3AtLASi03HuyD8dxzaJO4NwpKjF0a99kntoZbykAo4sD7AVOEA4zBGszZIoY6oC6oEwx7i8iqFBlD1pA5VhQjgxAyiWwioxgUZNYMCc+tMcS1U74QcAOSr/qomxszGrj20nH92GOiZ3SIbkQpulGl6M7HMWn0xW9+Ez/wYpNWwq5YwUFRdWddXwQUFIqK2dOTTootYfa/0A0Xy98q1Jeih24EAb4LAXOwpzdCXVAnLTYisIqMIWvIHLLHR4bIIjIJIaPIKjKL7CLDhCUess21G5OIVV5+W6028lLOfsMHL1HyRTKjgavHBuhuxrE1t9VWomeoiIwdG4uuG9uG1h06Q3da1wOA4svIUzZEbCnx1qOgYOL974+zqmTIUMo3vxkHxAlDIZxagwDYgjGTD2AO9hAz3NQJdUMdtVhDm6yRDTKILCKT9DxgAUJmkV1kmJ4JMo1sJ2U9+Q5w7ZQNAm5AssG95lyTBsN0bPJFYo889hziBWQTu4MOkrC1tmWgu1SH3VEZFmA1ZzzDuqtlZ+Fa4sK8Mcu5FHpWi+gxxmXimwTOIaFgLe8ClXMduBdgDNZgbt+DgAZ1Qt1QR9bcJ1wLNTPZkDzZIJPIJjLKTr7IrNH3vx9lGtlGxpF1ZN7ECpd/0jGWW8i2seVuCYHBjkT2CKQF3u7tXYZDXhKIl0SPTQnde/Ye+uMfRa69Nj5L/r71rSInnCBywAFRX/AsmW4ybDOvp2gLdxgZ2ZvNQTiMVej2/OXuEBrjttv0BNxNY4EoqFN7EABrhAjsWdbLvMhLL8XmPxswIlAIj+2CTFiryyZzaMmaXDIXwhfretioHiAn8stfdu2lpScj6/HIkQGMCeK0004cpxxXeVUSIViH7N2Jd2vfm7+79SPQZwwIO/Mmd+etv6jtj2EvBjlzbfcm2PjbS8S1UVLgaY1hMNgGghYaIw506UuH9lmU4DIk8JnPxA3t+Hhr5Mj42PJNprtGxEZvLGEKpMMfbOv+ku7BdLeNpzNZy54Wv/hF3B2WbVoZs6BZyYA38Sq9+Y3y4/FqQ8CMyLRpsUmvB7WFTawwIGhm5kVYX8uyX+rSyATXBMlce96ga8mYONFBgg09/id8yc73Iv/5n3EXFrKgwWSNJlZwHXhgXA/AAX4UiWXD7LtVTbTIx/IiPcKl/bg3vgjjVBmBPmFA0obD7isVKSkYyetKYevxqyctBM/+LY+OjmIQau7Tgk3aGArmmRkPZiyYLYvuvVfkzjuK8tADajBmWUpruhuvpzr5ffEF4n2fovdGvO/KSteLoPmsQTBpBUu7FtD87d5cCmFvWEnJjNOlotdcdJGMvOIKGcReFjoeQf6BMB58f8AkLpbNjYchk41L/VEHGPKf/1xk333j/iNwc8EF8f/f/13kne+MmzJyVm1acAlrRoXrJJlsmF8NsmaywvnyiCpiwunU/H9YeybsrUUD6rcX65JffU8gGlL8n3tuvN9mun68qI2nPfYqhL0kaVRRRD5/QUwxLLCSZi8anPiCJJ8h/tVegZjjmr/JuGs+afyunvwbz6WxmLk3IGYsOGSec9G30pm1TXS9n/mni20y3tFh4pgO0dh9I4LBu2WLj1as6JB58+L4LT0KzhhndIfFMA89WJTHZ8fFMNdcF4U4cqkveZcKLjN+uHbxD3+jbpe9S5xonLxu+VG40GxDLMNizaepOwLZP4/SBU3fJ6Nj9bQQhTlzpPj88zJSxxgO4S3nBLynngpKgFooMibxpS917XFlxqObN8POf6GejZLX5td+N5QooVSMP3rI7eemUo7gZFiZWylcqHfqAk1Nj2PvveMEO5tYQT/+cfzXZn5BjyYOmhxtPHVqHOLqrpkfEkj9mJyZYFaRLbwjytGQ8BbQMDqU/zfpxPrn4lftd98j8rdr9L/ELrnR0OL//13CHW9CpDceXAhTP5tvoQamdIIio3R8i0KPBQh4R5PvLGwGXmAmA7LjKwyuDFjoMcvcGxAD8fzzz5cNNthAl/39Rsf2T9AWxXoVjciKFdqMV1q2bJW+H1bz5vIkfR2XFaLorRdQ6Zrdsc0fxZ8Miz+ChwJZsEDUUBSFc8Q53vsVNRAL5uO3riycX5A77+kS6sgL/CR4GqzXG6uXCrcsL8r2y1fJNlOLcsDbVPB3EtloEx2+nioybLg+p/ZITvnpVB5M2HnhaiZlvMABRPwjqRSCwnHPHtxswsc/M5f48YzuEZ8Pa6+iyNdf110XjEUyz1AqTsXTJaMFJmL0aNsy2RtRRYFYOE6qtOM8TQ7sWZZuodChrdloLbiG8sRfXbhZXVAINl5kP3YmIDjF8Pe/xzc28fXoaUQtSOrBB0uBtbYMeW29dVxOhTEZNixqYnb+5Z86x8+a/WlZC4lX/wkyVHqMWPLfob2IyarwJ++n83t76eT7idpWmaPDu09rQ+w+Zf3Pyu6cgjw4DH60bvTdEBXRa64rJVR2qL9Yh3jtscsQGTNu3fC95dhxIuvqOe+c1MwhWRMmFML0HeIKXPRk7J+iYYhw8WORm11bjycZluso9mvmn+TFrjs7iwrhEDVsq9XViDkkLXZ+idYTL+Zr2mRfogqMc9Gv1j7sXXfdJUceeeRaBmT48A7Zf/+lcvRbl6ruW6rCPlhFRI/LLSlornkF4j0u91oxWpcr0ZmqLzEUuEtVXy5eWJQFagj0sgcKr5WGSbvJaCUB0JEAUQEV9CleqzTzZatll5VF2WD1a7Lx6mdl99cWybSOuTJmxIOy2fjHZNzqJTL4fuX1ZQ0LM2qQRHns1P+CCm9B0ynbSn0U3jTetkpklq70vEPvp6ih6EDyIZ4DAkYCC4iB6IbSJV6lzbnixz6mXaTD4xg6azItzR4MRjIblOAK5WOlWmvkYBWGKwdEo2TFilWycBEVCFTLVakM1iJWwbvNPA9W7QVmYMfx0OnjhrtlB5lADvjAkHEjeiV/+5sUdPnTYH0HeVsCaYOhR8LAoIEZQyJNGgMaaYry1YFhMcOFTPBv9+mES8+RsyBrymJRG0tFNQwdmgwNqS31fdpSexAHv1iQj63ulPnjR8oTC7aUhQu2lyc7J8ld40bLM4M2kucHrSP3DNFUUMY01Fbrv75DvE933pPMOOSU9ChdWx2bWyGIeikrMlYNz6gxBRmhN/AIBLhD0Lgh+dXqYJLRRqSHyz2P47VKvRqOEXLpX5aqztPIOaRcGxDDCwNCjwPCoFRr7RUKFOcGBVzHhxR8kaP1X1tCDVM1QSolyGMVjNATsLdrOQoYQYjCsbUKwwZ6PVKldLTMk8mvL5ANXl8qWyh/E+RljT5T3cdkfXlJxsjNKjwxOXW026L/z4crlfCYIneE4d+yxK83hB1riKZNk6XTp8tL2gR7TRXFM2osntV6Ws1XzqzwYTjLejYogjqIOsZoMHQ5RtOuSxHWkU/9QdFgg2WjdbX1rfTz82ZqZSBr9ZUvRG7BD4Z3oRr/4aqkMSbdDmFVyh8jgsGn58D4jtbnoFNPlY10cm5j7V6vo2lPUQM1YtasuLKjUhr40fCo0PhoWNYS+Zj84xVVb3zI+4AGUN0d/qOvrkbUC8ItlAPkBZmir9WWskK25W2U2RrjedURL8tYWaRv4hJt3T2vb9YjybdsqKZMbwY/Xmt2bdA2VkhUnTTRxluiDU/hvyr1pHq11y+X6z/h7lKdd2zVlLJ80FMpsuStnPdE7Uc+UxJGWlZD6DNWoGKRF/lAeftbDww9EGpZ24v6r8M04R8xQgy4RwGv1k5AVPS4g7Rpo21J/Te3U0eSOrWzsFoVvbr6fJhKzUi95n+sXo/R/w4Vu4IaiA5ZoHEXaNgFGme+jJLF+nyFjC3oPMGyF7S38LIM6piteSIcRlvoBV0SyjRD/0doivSc4CvRSlGG1+hl6NMy1aqck+HsGkVNa1UHgQvW9wZfmkwMDI8aFfdRwihgxLnnOcpFx8OHao9jsjKyjqazlbodKCDG9HAtjzKjtV+gCDEe83TiaENd35mXHggKeaTist32fwqFOeSQfw+942qNmtpL3JyQGI3n9NPuCbqgASPSK8NrdUhPRutSa1UGqx9tprA0kNUeNpm3eLGEFSBM6jHZxz3DnipbYbJPZaKoDYLV6jcY2SJtyNz0dXhY5ScRh/eY/0CaZHzUNbqgeyzo24ReWCrraHdjHXlSr3V1ipoOo9X6zq3u3EJ7NZOlOHx9WVAcosZmqL69ozTGON5gTWFs6Y0fF97+hZrrAv1fEt7+Dlmu18t0KED7VxpnkI6cdWgc+x8Urlfr89XqB8e4qnH0PVeegx9u5Jv7iM4hoQdy2V9GarkoQ/4o1wbEXkpehnW1O3yBrg5BoXzgAx8ISNpzg3XZsk655pox+kHdWFU+I0u94lgVVM+aFO9j95En3K/tF7uTVDnVa+GSLtc8KbVQwnVCrElSX+q5zz0v4yesI4OGq1LWFh4vpOWHG9NWL6VE7OjRwl8UzMvauqSHV2CA1gj+7L/a8IKGJYaWqCWEEVmuPRgaDNUaDS3JuIZEBw+hnRsJg5Ingh/+W4oZjQn+KxE9GDS5/ZfCFNWImKxRt60ge4/MJY/4Vsfc7A2Pd2pelMdBykvnsiUyf95rMmnDDWS4GrrJ5QSIkfyPDc4Yn18LGDVJNALEwD8+63q7q/l1pWZxcDs7R6kBGaxLlseoPiPf/FGuDQhw2TzISSedpHvAPShbbLGFNn5Hl/3TkA4dGistTjrF63SY3t6bQJrbU3q8Kqt0AHS1/g8ZQqtjUKnN0VPMNjzXF6jIcAX/wahVyTOlDEKoRPhasaiS+lreNA5Wq8LhH6p7KGatFJvjAR8ov2JnV4sQI5xuzDQnt/pTSeKGAWk2bmu8UchEknpqcDCkVousJdNswnWS5+Q1SVMC/FYXh4d3VAbpmIP+10KWVtK161ri9xwm4ms6refw7Q+RewPCC8FLQNd85513DghxX+2FpfEDMalZLUwM0d1v6sUoBTXhSLs9pqRlKKBkWCqlQ1WF9IvXXQKtfMYLD2D2Tw+kEm+mGHCrUPUnVSLU4E39JesweV1D9JYEMYWc5iV935LMe0g0yZvxY24PURt7XE0eqsmQyRluNVlrjJOGYwW5Rc703eQdhXg/G5HnylojpBjSrfeH+mTRBmy1qMNWL0trhc+9AYFjXgLA5J/r7l6KpEwnr9cqebcejYhPlQSV50AwYwyZWyVKW72Nl7TbViY8s36FgMlSulDmn3bT4bK4hyfji/yT1zXy00StEXJMqo4aWWh7sD5hQEClJ8PRduQ8Q0fAEXAEBjgCrZnJGuCgevEdAUfAERgICLgBGQi17GV0BBwBR6AFCLgBaQGonqQj4Ag4AgMBATcgA6GWvYyOgCPgCLQAATcgLQDVk3QEHAFHYCAg4AZkINSyl9ERcAQcgRYg4AakBaB6ko6AI+AIDAQE3IAMhFr2MjoCjoAj0AIE3IC0AFRP0hFwBByBgYCAG5CBUMteRkfAEXAEWoCAG5AWgOpJOgKOgCMwEBBwAzIQatnL6Ag4Ao5ACxDoM5sptqDsbU3Sttpua6b9ILO84pZXvqjyPPOWZ5F03OqvnX5lQPIsAK06ga3+Kl87hvO2NiY9+XR3pEBPcVv93OuzMYTzjFtjJWp9rH41hIUA5PXF5nzvXp1P3SJZwOguXLgwl61W8AK3PBK85bE+wcplrX6JybOs1V+a9sXoVz0QXpxVep4xlJeXGwU9SE9fe/bZZ2Xs2LEyYsSI3PCGwV25cqVceeWV8pGPfCTwmRfc4I36BLdNN900YJaHxgH4wBtG1ygvmLmsWY3U5+ZV1mxExdz6StWe0P3KgPBSo6AhjsDNEw0fPrzMGwKbF4IvsMKF8sQbdWl8YYTzQIaP8QVPLmu11YzLWm04pUOB24oVK9LeubjPl5btJSSjR4+WG2+8USZNmiSLFy/OhTKk9TBs2DC57bbbZO7cuTJhwgRZvZqz0bMnWvTLly+Xf/3rX3LDDTcEPvPS2sFgzJs3T2bNmhWG1+AzLz2QUaNGyR133BEq0GWtNjl2WasNp2Qo3kUaUbfccosccMAByUe5udbz4/9/O+fzUlUTh/EvvNRCaBNBWRaktegnaWWpUbtatIiQCgoXLYo2Im5r0buo/oEWElFWUpFCUUFUUJskgoLKIiuKShAVSjSitm/PwCPH6z3nSnln5t73GdA598y5Z577mR/f78yZOb9VlknAdMzLly9dpxhDZ0OsQAwvFVMdMeKePXt2lB4OyhAeP6YlYyvPWbNmueJFnYtNm+oaW97045jrGhzQdevWRTfSBd2yMiDTry66UgREQARE4G8JlNUUFmDE8kDzbwtG3xcBERABEuCzN36OJdYIJJaSkI5UApj2i2maKFWoEkTgf0YgnuVAMwAeHQ2fMTCegdvOyC2ojfGM3HQGbxIbL/406ILxiIkbtTCm1hhiaEKIURt1OYER/UuyIr9Y5CX1JI9j0Vc2IxDApZfKY8ahYefTke9cKJ0xacnHgHsv8qX5PpePVb5zvnUl80vyiklbTFqSvHKPY9GZT0e+c7n6fX7+59/fwWeGxciLULEi5ubNm3bjxg2rqqqyuXPnOk+MhqUYeRe6J7X9+PHDrl27Zs+ePbP58+e7TYVMK3SPYqZTw9jYmPX09Njq1aujWP6M3wxt9+/ft6tXr9rPnz9t+fLlxURR8N5k9f37d1eWT58+dZqwSoZpBW9SpAuYf19fn3V2droNmMuWLTOsFmNakbKe1m1p1LBK8uPHj7ZkyZJoNoeCz927d+3evXs2Z84ctw0gNDPmj6X/KM/nz59bdXW1VVRURFGeLPSSn8ICaD44f/TokaGjbm1ttZMnT04s/8Q1IQLyZd537tyxVatW2bZt2+zz588h5EzKM6kNCefOnbOurq4JvdQ96UuePrA8wenNmzd29OhRF6PzQWC6JzlTsrl+/bqtXbvWleft27enpPs+gbKCk4TNZleuXLG2tjbD0mx0iAghy5L54yEw9mbt3r3bxsfHna7Q/1iPnjx5Yt++fbP9+/fb+/fv3T6tkE4nmSG+deuW1dfX28qVK90bI5JpOA4dSnoVFhsOdynDe378+LHrDHfu3OnWTfMa36CZLyviq1ev3Osv4FEcOHDAt5wp+VEXEsAMxg07Xnme8ZQvejjBFSfwUtvb212DBjeM3BBCaGN5YpT75csXa2lpcR0zNmBin0rI3ejkAQ2nTp1yI0i8AqaxsdFDaRXOgvoePnzo9GEzLQKYxhBQtzAqunTpkm3dutW90oflHVrf5s2brbu72zlNMHCxhZIdgbCAv3796oZ4Dx48cJWgsrLStmzZ4rx8bvLyXVGp7cOHD3bmzBm3Ox6dDnShEnR0dLjGw4YVolL09vbahQsX3NAdow/urh4cHHRyfDMjA+zSxzTkxYsX3WgSnzHLumfPHluwYEHwaQ9w4fvWcBzScJAZYmiB4cXf2bNnDe1g48aNE+eT1/o8ppcPQ4s6h3qGndWYkoTjF6qeJRmMjo66ESXeB4e2iXewoW2G1EYnCo4njBqcgbdv3zrZIfuNJDccl6wB4Q9BhcQQb82aNTYwMODmVtFwXr9+HfxNrvPmzbOmpiZbsWKFwZPAfDSmFpLvUeLv8B0vXbrUGhoabNGiRc6bxrz+ixcv7NevX76lTMoPjQMjSWhDAz5+/Lht377d1q9f7178yIY16UsePrBDQfmBGRyCd+/e2cKFCydGuh5kpGbBTgXGA/Wsubl5Ygo39UseEqgLzHbs2OEcO0wXoZOOJcAxQb3Cs6wY2ia5wHmCsd2wYYP7w2ua0CbIlNeFjEt6FVYuTDwIvnz5smvcu3btcp137jW+YOfmOzIyYufPn3ee1+HDh23x4sXRVQY85N+3b58vRAXz6e/vtxMnTtimTZtsaGjIjhw54t7Mm8u24I1m6ALmOzw8bKdPn3aLNA4ePBh8sQZ1of4fO3bMampq3EN0TLPV1ta6UVsowwv01IdjOHmYMoJDgA6S089I8x2oC04TpolQ3/bu3Wt1dXWTNPvWhfyo7dOnT26GBSO5Q4cOBa3/+TiUtAHhDwJs/LGR4MV78CZCB2hCoDZUAhxz6B7Sk0hqIyfqYczzvuOkNhyjo4EmTBfFoA0aoAn1DcfQGFoXygg6UMegDQG82CbciYD/oA1/DOAVCzPqwCIEjDBjCaxXfBdcDP1GLpuyMCD8UQSOz8ljpoeMk3qSxyE1Ke8/I5Asv+Txn91N3wpNIFmGyePQupB/Uk/yOAZt0FBWBoRQYwRdCtqoMaYYZclAT5GfQ8ax1rFYeYUsq+nmHXuZxlT/ybQsDQh/nGIREAEREIHiESj5VVjFQ6M7i4AIiIAIZBGQAcmiozQREAEREIFUAjIgqWiUIAIiIAIikEVABiSLjtJEQAREQARSCciApKJRggiIgAiIQBYBGZAsOkoTAREQARFIJSADkopGCSIgAiIgAlkEZECy6ChNBERABEQglYAMSCoaJYiACIiACGQRkAHJoqM0ERABERCBVAIyIKlolCACIiACIpBFQAYki47SREAEREAEUgnIgKSiUYIIiIAIiEAWARmQLDpKEwEREAERSCUgA5KKRgkiIAIiIAJZBGRAsugoTQREQAREIJWADEgqGiWIgAiIgAhkEfgPEAATKXaCX5YAAAAASUVORK5CYII=)\n",
        "\n",
        "k-means model places a circle (or, in higher dimensions, a hyper-sphere) at the center of each cluster, with a radius defined by the most distant point in the cluster.\n",
        "\n",
        "![gm2.png](data:image/png;base64,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)\n",
        "\n",
        "This works fine for when data is circular. However, when data takes on different shape, we end up with something like this.\n",
        "\n",
        "![gm3.png](data:image/png;base64,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)\n",
        "\n",
        "In contrast, Gaussian mixture models can handle even very oblong clusters.\n",
        "\n",
        "![gm4.png](data:image/png;base64,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)\n"
      ]
    },
    {
      "cell_type": "markdown",
      "metadata": {
        "id": "BDIrwj--v9OQ"
      },
      "source": [
        "* K-means performs hard classification whereas GMM performs soft classification, i.e. in k-means, data point is deterministically assigned to one and only one cluster, but in reality there may be overlapping between the cluster GMM provide us the probabilities of the data point belonging to each of the possible clusters.\n",
        "In Sklearn,  gmm.predict(X)  the model assigns every data point to one of the clusters and  gmm.predict_proba(X)  function return the probabilities that a data point belongs to each of the K clusters.\n",
        "\n",
        "* Sklearn's GaussianMixture also comes with different options to constrain the covariance of the difference classes estimated: spherical, diagonal, tied or full covariance."
      ]
    },
    {
      "cell_type": "markdown",
      "metadata": {
        "id": "AKnffUj6wGdx"
      },
      "source": [
        "#### Gaussian Mixture Models At A Glance\n",
        "As the name implies, a Gaussian mixture model involves the mixture (i.e. superposition) of multiple Gaussian distributions. Here rather than identifying clusters by “nearest” centroids, we fit a set of k gaussians to the data. And we estimate gaussian distribution parameters such as mean and Variance for each cluster and weight of a cluster. After learning the parameters for each data point we can calculate the probabilities of it belonging to each of the clusters.\n",
        "\n",
        "![gm5.png](data:image/png;base64,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)\n",
        "\n",
        "Every distribution is multiplied by a weight  π ( π1+π2+π3=1 ) to account for the fact that we do not have an equal number of samples from each category. In other words, we might only have included 1000 people from the red cluster class and 100,000 people from the green cluster class.\n"
      ]
    },
    {
      "cell_type": "markdown",
      "metadata": {
        "id": "sMicbrrfwmsJ"
      },
      "source": [
        "####Expectation Maximization\n",
        "**Expectation**\n",
        "\n",
        "The first step, known as the expectation step or  E  step, consists of calculating the expectation of the component assignments  $C_{k}$  for each data point  $x_{i}∈X$  given the model parameters  $π_{k}$ ,  $μ_{k}$ , and  $σ_{k}$.\n",
        "\n",
        "**Maximization**\n",
        "\n",
        "The second step is known as the maximization step or  M  step, which consists of maximizing the expectations calculated in the E step with respect to the model parameters. This step consists of updating the values  $π_{k}$ ,  $μ_{k}$  and  $σ_{k}$.\n",
        "\n",
        "The entire iterative process repeats until the algorithm converges, giving a maximum likelihood estimate. Intuitively, the algorithm works because knowing the component assignment  $C_{k}$  for each  $x_{i}$  makes solving for  $π_{k}$ ,  $μ_{k}$ , and  $σ_{k}$  easy, while knowing  $π_{k}$ ,  $μ_{k}$ ,  $σ_{k}$  makes inferring  $p(C_{k{|x_{i}}})$  easy. The expectation step corresponds to the latter case while the maximization step corresponds to the former. Thus, by alternating between which values are assumed fixed, or known, maximum likelihood estimates of the non-fixed values can be calculated in an efficient manner.\n"
      ]
    },
    {
      "cell_type": "markdown",
      "metadata": {
        "id": "iMZzwRXGw1bz"
      },
      "source": [
        "#### Algorithm\n",
        "* Initialize the mean  $μ_{k}$ , the covariance matrix  $Σk$  and the mixing coefficients  $π_{k}$  by some random values(or other values).\n",
        "\n",
        "* Compute the  $C_{k}$  values for all k.\n",
        "\n",
        "* Again estimate all the parameters using the current $C_{k}$ values.\n",
        "\n",
        "* Compute log-likelihood function.\n",
        "\n",
        "* Put some convergence criterion\n",
        "\n",
        "* If the log-likelihood value converges to some value (or if all the parameters converge to some values) then stop, else return to Step 2.\n",
        "\n",
        "This algorithm only guarantee that we land to a local optimal point, but it do not guarantee that this local optima is also the global one. And so, if the algorithm starts from different initialization points, in general it lands into different configurations.\n",
        "\n",
        "Finally, all this can be accomplished using `GaussianMixture` package from `sklearn` library."
      ]
    },
    {
      "cell_type": "markdown",
      "metadata": {
        "id": "yVnLwkJFncAL"
      },
      "source": [
        "#### Deciding number of clusters based on Silhouette Score"
      ]
    },
    {
      "cell_type": "code",
      "metadata": {
        "id": "gzfQjtBWiaWL"
      },
      "source": [
        "X = X_pca\n",
        "print(\"Clusters\\t\\tSilhoutte Score\\n\")\n",
        "for n_components in range(2,6):\n",
        "   gmm = GaussianMixture(n_components=n_components).fit(X)\n",
        "   sil_coeff = silhouette_score(X, gmm.predict(X))\n",
        "   print(f\"n_components = {n_components}\\t-->{sil_coeff}\")"
      ],
      "execution_count": null,
      "outputs": []
    },
    {
      "cell_type": "markdown",
      "metadata": {
        "id": "c81MIDDvAwO7"
      },
      "source": [
        "Silhouette Coefficient or silhouette score is a metric used to calculate the goodness of a clustering technique. Its value ranges from -1 to 1.\n",
        "\n",
        "* 1: Means clusters are well apart from each other and clearly distinguished.\n",
        "\n",
        "* 0: Means clusters are indifferent, or we can say that the distance between clusters is not significant.\n",
        "\n",
        "* -1: Means clusters are assigned in the wrong way.\n"
      ]
    },
    {
      "cell_type": "markdown",
      "metadata": {
        "id": "GtRsVuJ3nnGI"
      },
      "source": [
        "We can observe that the silhouette score is highest when number of components is 2. Therefore, we will implement GMM using 2 components as well as 3 components and check the goodness using Adjusted Rand Index.. "
      ]
    },
    {
      "cell_type": "code",
      "metadata": {
        "id": "poBWWNOLK9yc"
      },
      "source": [
        "gmm = GaussianMixture(n_components = 3)\n",
        "gmm.fit(X_scaled)\n",
        "\n",
        "# Predict the cluster for each data point\n",
        "y_cluster_gmm = gmm.predict(X_scaled)\n",
        "y_cluster_gmm"
      ],
      "execution_count": null,
      "outputs": []
    },
    {
      "cell_type": "markdown",
      "source": [
        "Let’s look at the parameters that the algorithm estimated:"
      ],
      "metadata": {
        "id": "d05R-R7SOM8d"
      }
    },
    {
      "cell_type": "code",
      "source": [
        "# Estimated weights, means, covariance matrices of clusters\n",
        "print(\"Weights: \", gmm.weights_)\n",
        "print(\"Means: \", gmm.means_)\n",
        "print(\"Covariance matrices: \\n\", gmm.covariances_)"
      ],
      "metadata": {
        "id": "RFxGwfUuNSX9"
      },
      "execution_count": null,
      "outputs": []
    },
    {
      "cell_type": "markdown",
      "metadata": {
        "id": "bOUfXRTwnIw6"
      },
      "source": [
        "Creating a function for visualization of GMM Cluster."
      ]
    },
    {
      "cell_type": "code",
      "metadata": {
        "id": "a1wkamefjD2d"
      },
      "source": [
        "def draw_ellipse(position, covariance, ax=None, **kwargs):\n",
        "    \"\"\"Draw an ellipse with a given position and covariance\"\"\"\n",
        "    ax = ax or plt.gca()\n",
        "\n",
        "    # Convert covariance to principal axes\n",
        "    if covariance.shape == (2, 2):\n",
        "        U, s, Vt = np.linalg.svd(covariance)\n",
        "        angle = np.degrees(np.arctan2(U[1, 0], U[0, 0]))\n",
        "        width, height = 2 * np.sqrt(s)\n",
        "    else:\n",
        "        angle = 0\n",
        "        width, height = 2 * np.sqrt(covariance)\n",
        "    # Draw the ellipse\n",
        "    for nsig in range(1, 4):\n",
        "        ax.add_patch(Ellipse(position, nsig * width, nsig * height,angle, **kwargs))\n",
        "        \n",
        "def plot_gmm(gmm, X, label=True, ax=None):\n",
        "    ax = ax or plt.gca()\n",
        "    labels = gmm.fit(X).predict(X)\n",
        "    ax.legend([labels])\n",
        "    if label:\n",
        "        ax.scatter(X.iloc[:,0], X.iloc[:,1], c=labels, s=40, cmap='viridis', zorder=2)\n",
        "    else:\n",
        "        ax.scatter(X.iloc[:,0], X.iloc[:,1], s=40, zorder=2)\n",
        "    ax.axis('equal')\n",
        "    w_factor = 0.2 / gmm.weights_.max()\n",
        "    for pos, covar, w in zip(gmm.means_, gmm.covariances_, gmm.weights_):\n",
        "        draw_ellipse(pos, covar, alpha=w * w_factor)"
      ],
      "execution_count": null,
      "outputs": []
    },
    {
      "cell_type": "markdown",
      "metadata": {
        "id": "tlXsRnZ4n_st"
      },
      "source": [
        "Now, let us have a look at how the clusters have been formed for the Gaussian Mixtures Model."
      ]
    },
    {
      "cell_type": "code",
      "metadata": {
        "id": "DpBBKiYOsX-w"
      },
      "source": [
        "gmm = GaussianMixture(n_components=2, random_state=42,)\n",
        "plot_gmm(gmm, X_pca)"
      ],
      "execution_count": null,
      "outputs": []
    },
    {
      "cell_type": "markdown",
      "metadata": {
        "id": "oWjEza-p6aav"
      },
      "source": [
        "Visualizing the plot with 3 components."
      ]
    },
    {
      "cell_type": "code",
      "metadata": {
        "id": "mOqrBH7rjGw9"
      },
      "source": [
        "gmm = GaussianMixture(n_components=3, random_state=42,)\n",
        "plot_gmm(gmm, X_pca)"
      ],
      "execution_count": null,
      "outputs": []
    },
    {
      "cell_type": "markdown",
      "metadata": {
        "id": "qaloQBMOiMzZ"
      },
      "source": [
        "The GMM did much better at finding the actual species clusters! How did it do that? \n",
        "\n",
        "K-means is biased towards spherically distributed clusters.But, GMM tries to fit normally distributed clusters, which is probably the case with this data, so it fits it better. \n",
        "\n",
        "**Note**: *Gaussian Mixture Model (GMM) Clustering handles ellipsoidal distributions, and makes 'soft' assignments to clusters, but is much slower than k-means for large datasets.*\n"
      ]
    },
    {
      "cell_type": "markdown",
      "metadata": {
        "id": "VHfHdGCP_n6Y"
      },
      "source": [
        "### Please answer the questions below to complete the experiment:\n",
        "\n",
        "\n"
      ]
    },
    {
      "cell_type": "markdown",
      "metadata": {
        "id": "FDFfVBAyWPCL"
      },
      "source": [
        "#### Consider the following statement about Principal Component Analysis (PCA) and answer Q.1.\n",
        "\n",
        "A. PCA is a supervised dimensionality reduction technique\n",
        "\n",
        "B. All Principal components are orthogonal to each other\n",
        "\n",
        "C. PCA computes the direction in which the data has the largest variance\n",
        "\n",
        "D. PCA is non-linear dimensionality reduction technique"
      ]
    },
    {
      "cell_type": "code",
      "metadata": {
        "id": "O0fE8R6Ud-s8"
      },
      "source": [
        "#@title Q.1.Which of the above options is/are true regarding Principal Component Analysis (PCA)? { run: \"auto\", form-width: \"500px\", display-mode: \"form\" }\n",
        "Answer1 = \"Both B and C\" #@param [\"\",\"Only A\", \"Only B\", \"Both B and C\", \"Both C and D\", \"All of the above\"]"
      ],
      "execution_count": null,
      "outputs": []
    },
    {
      "cell_type": "markdown",
      "metadata": {
        "id": "jsKm6rEDrwQi"
      },
      "source": [
        "#### Consider the following problem and answer Q.2.\n",
        "\n",
        "##### For the given 2D data (X, Y) = (1, 6), (2, 7), (3, 8), (4, 9), (5, 10), or represented as follows: \n",
        "\\\\\n",
        "\\begin{bmatrix}\n",
        "1 & 6   \\\\\n",
        "2 & 7   \\\\\n",
        "3 & 8   \\\\\n",
        "4 & 9   \\\\\n",
        "5 & 10   \\\\\n",
        "\\end{bmatrix}\n",
        "\n",
        "\\\\\n",
        "Compute the following :-\n",
        "\n",
        "1. The covariance matrix\n",
        "\n",
        "2. The normalized eigenvalues and eigenvectors of the covariance matrix\n",
        "\n",
        "The first Principal Component (eigenvector with highest variance) are given as follows:\n",
        "\n",
        "A. \\begin{bmatrix}\n",
        "-\\frac{1}{\\sqrt2}  \\\\\n",
        "-\\frac{1}{\\sqrt2} \\\\\n",
        "\\end{bmatrix}\n",
        "\n",
        "B. \\begin{bmatrix}\n",
        "-\\frac{1}{2}  \\\\\n",
        "-\\frac{1}{2} \\\\\n",
        "\\end{bmatrix}\n",
        "\n",
        "C. \\begin{bmatrix}\n",
        "\\phantom{-}\\frac{1}{2}  \\\\\n",
        "-\\frac{1}{2} \\\\\n",
        "\\end{bmatrix}\n",
        "\n",
        "D. \\begin{bmatrix}\n",
        "\\frac{1}{\\sqrt2}  \\\\\n",
        "\\frac{1}{\\sqrt2} \\\\\n",
        "\\end{bmatrix}\n"
      ]
    },
    {
      "cell_type": "code",
      "metadata": {
        "id": "ZlSp1X_GeF41"
      },
      "source": [
        "#@title Q.2. Which is the first Principal Component (eigenvector along which the variance of the data is the highest) for the given dataset from the choices above computed from the Covariance Matrix? Please manually solve the problem yourself and compare it with experimental results. { run: \"auto\", form-width: \"500px\", display-mode: \"form\" }\n",
        "Answer2 = \"B\" #@param [\"\",\"A\", \"B\", \"C\", \"D\", \"None of the above\"]"
      ],
      "execution_count": null,
      "outputs": []
    },
    {
      "cell_type": "code",
      "metadata": {
        "id": "NMzKSbLIgFzQ"
      },
      "source": [
        "#@title How was the experiment? { run: \"auto\", form-width: \"500px\", display-mode: \"form\" }\n",
        "Complexity = \"Good and Challenging for me\" #@param [\"\",\"Too Simple, I am wasting time\", \"Good, But Not Challenging for me\", \"Good and Challenging for me\", \"Was Tough, but I did it\", \"Too Difficult for me\"]\n"
      ],
      "execution_count": null,
      "outputs": []
    },
    {
      "cell_type": "code",
      "metadata": {
        "id": "DjcH1VWSFI2l"
      },
      "source": [
        "#@title If it was too easy, what more would you have liked to be added? If it was very difficult, what would you have liked to have been removed? { run: \"auto\", display-mode: \"form\" }\n",
        "Additional = \"NA\" #@param {type:\"string\"}\n"
      ],
      "execution_count": null,
      "outputs": []
    },
    {
      "cell_type": "code",
      "metadata": {
        "id": "4VBk_4VTAxCM"
      },
      "source": [
        "#@title Can you identify the concepts from the lecture which this experiment covered? { run: \"auto\", vertical-output: true, display-mode: \"form\" }\n",
        "Concepts = \"Yes\" #@param [\"\",\"Yes\", \"No\"]\n"
      ],
      "execution_count": null,
      "outputs": []
    },
    {
      "cell_type": "code",
      "metadata": {
        "id": "XH91cL1JWH7m"
      },
      "source": [
        "#@title  Text and image description/explanation and code comments within the experiment: { run: \"auto\", vertical-output: true, display-mode: \"form\" }\n",
        "Comments = \"Very Useful\" #@param [\"\",\"Very Useful\", \"Somewhat Useful\", \"Not Useful\", \"Didn't use\"]\n"
      ],
      "execution_count": null,
      "outputs": []
    },
    {
      "cell_type": "code",
      "metadata": {
        "id": "z8xLqj7VWIKW"
      },
      "source": [
        "#@title Mentor Support: { run: \"auto\", vertical-output: true, display-mode: \"form\" }\n",
        "Mentor_support = \"Somewhat Useful\" #@param [\"\",\"Very Useful\", \"Somewhat Useful\", \"Not Useful\", \"Didn't use\"]\n"
      ],
      "execution_count": null,
      "outputs": []
    },
    {
      "cell_type": "code",
      "metadata": {
        "id": "FzAZHt1zw-Y-",
        "cellView": "form"
      },
      "source": [
        "#@title Run this cell to submit your notebook for grading { vertical-output: true }\n",
        "try:\n",
        "  if submission_id:\n",
        "      return_id = submit_notebook()\n",
        "      if return_id : submission_id = return_id\n",
        "  else:\n",
        "      print(\"Please complete the setup first.\")\n",
        "except NameError:\n",
        "  print (\"Please complete the setup first.\")"
      ],
      "execution_count": null,
      "outputs": []
    }
  ]
}